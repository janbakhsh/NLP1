{
  "nbformat": 4,
  "nbformat_minor": 0,
  "metadata": {
    "colab": {
      "name": "TR_Challenge_Extended_Response.ipynb",
      "provenance": [],
      "collapsed_sections": [],
      "machine_shape": "hm"
    },
    "kernelspec": {
      "display_name": "Python 3",
      "language": "python",
      "name": "python3"
    },
    "language_info": {
      "codemirror_mode": {
        "name": "ipython",
        "version": 3
      },
      "file_extension": ".py",
      "mimetype": "text/x-python",
      "name": "python",
      "nbconvert_exporter": "python",
      "pygments_lexer": "ipython3",
      "version": "3.7.6"
    },
    "accelerator": "GPU"
  },
  "cells": [
    {
      "cell_type": "code",
      "metadata": {
        "colab_type": "code",
        "id": "rR6fQkA2-2BH",
        "colab": {}
      },
      "source": [
        "!pip install unidecode\n",
        "!python -m spacy download en_core_web_lg\n",
        "# !python -m spacy download en_core_web_sm\n",
        "# !pip install fbpca\n",
        "\n",
        "# you have to restart your runtime after this cell"
      ],
      "execution_count": 0,
      "outputs": []
    },
    {
      "cell_type": "code",
      "metadata": {
        "colab_type": "code",
        "id": "gnyJWX7viSV4",
        "colab": {}
      },
      "source": [
        "from google.colab import drive\n",
        "drive.mount('/content/drive')"
      ],
      "execution_count": 0,
      "outputs": []
    },
    {
      "cell_type": "markdown",
      "metadata": {
        "colab_type": "text",
        "id": "bhvlQL30-2BP"
      },
      "source": [
        " The goal of this notebook was to search for top words of interest than can be associated to each news entry in column \"HEADLINE_ALERT_TEXT\", and at the same time attempting to cluster/topic model the docs in that column using Non Negative Matrix Factorization method.   \n",
        "Why 4 topics?\n",
        "My assumption was that if the entries in HEADLINE_ALERT_TEXT column are associated with only 4 unique entries in EVENT_TYPE column, then I can ask the same from my model in terms of clustering the news entries.\n",
        "Non Negative Matrix Factorization method.   \n",
        "A very fast, yet non unique solution to feature reduction of the TFIDF matrix to the number of topics/clusters that we think can represent all entries in HEADLINE_ALERT_TEXT column."
      ]
    },
    {
      "cell_type": "markdown",
      "metadata": {
        "colab_type": "text",
        "id": "d-RxckZW-2BQ"
      },
      "source": [
        ""
      ]
    },
    {
      "cell_type": "code",
      "metadata": {
        "colab_type": "code",
        "id": "j4sfIBJm-2BR",
        "colab": {}
      },
      "source": [
        "import pandas as pd\n",
        "import numpy as np\n",
        "import math\n",
        "import matplotlib.pyplot as plt\n",
        "%matplotlib inline\n",
        "from sklearn.feature_extraction.text import TfidfVectorizer, CountVectorizer\n",
        "from sklearn.decomposition import NMF, LatentDirichletAllocation\n",
        "import codecs\n",
        "import unidecode\n",
        "import re\n",
        "import string\n",
        "import spacy\n",
        "nlp = spacy.load('en_core_web_lg')\n",
        "import nltk\n",
        "nltk.download('punkt')\n",
        "# import bs4 as bs\n",
        "import urllib.request\n",
        "from sklearn import decomposition\n",
        "from scipy import linalg\n",
        "# import fbpca"
      ],
      "execution_count": 0,
      "outputs": []
    },
    {
      "cell_type": "markdown",
      "metadata": {
        "colab_type": "text",
        "id": "D0i57F8PCLIu"
      },
      "source": [
        "# Scrape from internet, and get the corpus of docs"
      ]
    },
    {
      "cell_type": "code",
      "metadata": {
        "colab_type": "code",
        "id": "D0__MoSzHE8j",
        "colab": {}
      },
      "source": [
        "# urlpathstr = 'https://whateveraddress...'\n",
        "\n",
        "# def get_urldata(urlpath):\n",
        "#   raw_html = urllib.request.urlopen(urlpath)\n",
        "#   raw_html = raw_html.read()\n",
        "\n",
        "#   doc_html = bs.BeautifulSoup(raw_html, 'lxml')\n",
        "#   doc_html_paragraphs = doc_html.find_all('p')\n",
        "#   docs = ''  # cleaned up text from all html stuff\n",
        "\n",
        "#   for para in doc_html_paragraphs:\n",
        "#       docs += para.text\n",
        "#   return docs\n",
        "# docs = get_urldata(urlpath= urlpathstr)\n",
        "\n",
        "# corpus = nltk.sent_tokenize(docs) # doc objects, in this case they are sentences"
      ],
      "execution_count": 0,
      "outputs": []
    },
    {
      "cell_type": "markdown",
      "metadata": {
        "colab_type": "text",
        "id": "-sXjk61FJBXg"
      },
      "source": [
        "## Get the dataframe\n",
        "1- Choose the columns you want to work with, and a preliminary small subset of dataset  \n",
        "2- Choose the text column for processing\n",
        " "
      ]
    },
    {
      "cell_type": "code",
      "metadata": {
        "colab_type": "code",
        "id": "3N63whBoHMt4",
        "colab": {}
      },
      "source": [
        "\n",
        "\n",
        "df = pd.read_csv(r'/content/drive/My Drive/NLP/TR/working_folder/cleanSet.csv')\n",
        "df.sort_values(by='DATE',inplace=True, ascending=True, axis=0)\n",
        "df.dropna(inplace=True)\n",
        "df = df.reset_index(drop=True)\n",
        "df.reset_index(inplace=True)\n",
        "l = ['DATE','TIME','STORY_DATE_TIME','EVENT_TYPE','HEADLINE_ALERT_TEXT', 'PRODUCTS', 'TOPICS','STORY_TYPE', 'TABULAR_FLAG']\n",
        "df0 = pd.DataFrame(df[:20001], columns=df.columns)\n"
      ],
      "execution_count": 0,
      "outputs": []
    },
    {
      "cell_type": "code",
      "metadata": {
        "colab_type": "code",
        "id": "2SwOsyr1pm_0",
        "outputId": "1bedb398-685b-4697-b2f6-fec4175d4e8c",
        "colab": {
          "base_uri": "https://localhost:8080/",
          "height": 35
        }
      },
      "source": [
        "df.shape"
      ],
      "execution_count": 5,
      "outputs": [
        {
          "output_type": "execute_result",
          "data": {
            "text/plain": [
              "(235932, 13)"
            ]
          },
          "metadata": {
            "tags": []
          },
          "execution_count": 5
        }
      ]
    },
    {
      "cell_type": "code",
      "metadata": {
        "colab_type": "code",
        "id": "l1SclZHvKkCk",
        "outputId": "82558212-522b-44e3-c725-02f7baf5871c",
        "colab": {
          "base_uri": "https://localhost:8080/",
          "height": 35
        }
      },
      "source": [
        "df0.shape"
      ],
      "execution_count": 6,
      "outputs": [
        {
          "output_type": "execute_result",
          "data": {
            "text/plain": [
              "(20001, 13)"
            ]
          },
          "metadata": {
            "tags": []
          },
          "execution_count": 6
        }
      ]
    },
    {
      "cell_type": "markdown",
      "metadata": {
        "colab_type": "text",
        "id": "crrHNdxM6B2C"
      },
      "source": [
        "## Clean your text"
      ]
    },
    {
      "cell_type": "code",
      "metadata": {
        "colab_type": "code",
        "id": "ufP5wL9I6FAW",
        "colab": {}
      },
      "source": [
        "from IPython.display import Markdown, display\n",
        "# pd.set_option('display.max_colwidth', -1)\n",
        "np.set_printoptions(suppress=True)\n",
        "df0.iloc[0:20]['HEADLINE_ALERT_TEXT']"
      ],
      "execution_count": 0,
      "outputs": []
    },
    {
      "cell_type": "code",
      "metadata": {
        "colab_type": "code",
        "id": "y_X8I9bhIWgo",
        "colab": {}
      },
      "source": [
        "''' I borowed this contraction map and its cleaning function from a github page but I unfortunately I don't remember to whom it belongs to'''\n",
        "contraction_mapping = {\"<\":\"\", \">\":\"\", \"--th\":\"\", \"sames\":\"same\", \"ain't\": \"am not\", \"aren't\": \"are not\",\"can't\": \"cannot\", \"umm\": \"delicious\",\n",
        "                   \"can't've\": \"cannot have\", \"'cuz\": \"because\", \"'cause\": \"because\", \"could've\": \"could have\", \n",
        "                   \"couldn't\": \"could not\", \"couldn't've\": \"could not have\",\"didn't\": \"did not\", \n",
        "                   \"doesn't\": \"does not\", \"don't\": \"do not\", \"hadn't\": \"had not\", \n",
        "                   \"hadn't've\": \"had not have\", \"hasn't\": \"has not\", \"haven't\": \"have not\", \n",
        "                   \"he'd\": \"he would\", \"he'd've\": \"he would have\", \"he'll\": \"he will\", \n",
        "                   \"he'll've\": \"he will have\", \"he's\": \"he is\", \"how'd\": \"how did\", \n",
        "                   \"how'd'y\": \"how do you\", \"how'll\": \"how will\", \"how's\": \"how is\", \n",
        "                   \"I'd\": \"I would\", \"I'd've\": \"I would have\", \"I'll\": \"I will\", \n",
        "                   \"I'll've\": \"I will have\",\"I'm\": \"I am\", \"I've\": \"I have\", \n",
        "                   \"i'd\": \"i would\", \"i'd've\": \"i would have\", \"i'll\": \"i will\", \n",
        "                   \"i'll've\": \"i will have\",\"i'm\": \"i am\", \"i've\": \"i have\", \n",
        "                   \"isn't\": \"is not\", \"it'd\": \"it would\", \"it'd've\": \"it would have\", \n",
        "                   \"it'll\": \"it will\", \"it'll've\": \"it will have\",\"it's\": \"it is\", \n",
        "                   \"let's\": \"let us\", \"ma'am\": \"madam\", \"mayn't\": \"may not\", \n",
        "                   \"might've\": \"might have\",\"mightn't\": \"might not\",\"mightn't've\": \"might not have\", \n",
        "                   \"must've\": \"must have\", \"mustn't\": \"must not\", \"mustn't've\": \"must not have\", \n",
        "                   \"needn't\": \"need not\", \"needn't've\": \"need not have\",\"o'clock\": \"of the clock\", \n",
        "                   \"oughtn't\": \"ought not\", \"oughtn't've\": \"ought not have\", \"shan't\": \"shall not\",\n",
        "                   \"sha'n't\": \"shall not\", \"shan't've\": \"shall not have\", \"she'd\": \"she would\", \n",
        "                   \"she'd've\": \"she would have\", \"she'll\": \"she will\", \"she'll've\": \"she will have\", \n",
        "                   \"she's\": \"she is\", \"should've\": \"should have\", \"shouldn't\": \"should not\", \n",
        "                   \"shouldn't've\": \"should not have\", \"so've\": \"so have\",\"so's\": \"so as\", \n",
        "                   \"this's\": \"this is\",\n",
        "                   \"that'd\": \"that would\", \"that'd've\": \"that would have\",\"that's\": \"that is\", \n",
        "                   \"there'd\": \"there would\", \"there'd've\": \"there would have\",\"there's\": \"there is\", \n",
        "                       \"here's\": \"here is\",\n",
        "                   \"they'd\": \"they would\", \"they'd've\": \"they would have\", \"they'll\": \"they will\", \n",
        "                   \"they'll've\": \"they will have\", \"they're\": \"they are\", \"they've\": \"they have\", \n",
        "                   \"to've\": \"to have\", \"wasn't\": \"was not\", \"we'd\": \"we would\", \n",
        "                   \"we'd've\": \"we would have\", \"we'll\": \"we will\", \"we'll've\": \"we will have\", \n",
        "                   \"we're\": \"we are\", \"we've\": \"we have\", \"weren't\": \"were not\", \n",
        "                   \"what'll\": \"what will\", \"what'll've\": \"what will have\", \"what're\": \"what are\", \n",
        "                   \"what's\": \"what is\", \"what've\": \"what have\", \"when's\": \"when is\", \n",
        "                   \"when've\": \"when have\", \"where'd\": \"where did\", \"where's\": \"where is\", \n",
        "                   \"where've\": \"where have\", \"who'll\": \"who will\", \"who'll've\": \"who will have\", \n",
        "                   \"who's\": \"who is\", \"who've\": \"who have\", \"why's\": \"why is\", \n",
        "                   \"why've\": \"why have\", \"will've\": \"will have\", \"won't\": \"will not\", \n",
        "                   \"won't've\": \"will not have\", \"would've\": \"would have\", \"wouldn't\": \"would not\", \n",
        "                   \"wouldn't've\": \"would not have\", \"y'all\": \"you all\", \"y'all'd\": \"you all would\",\n",
        "                   \"y'all'd've\": \"you all would have\",\"y'all're\": \"you all are\",\"y'all've\": \"you all have\",\n",
        "                   \"you'd\": \"you would\", \"you'd've\": \"you would have\", \"you'll\": \"you will\", \n",
        "                   \"you'll've\": \"you will have\", \"you're\": \"you are\", \"you've\": \"you have\" } \n",
        "\n",
        "def doc_cleaner0(doc):\n",
        "    # doc = doc.lower() # convert to lower case\n",
        "    # doc = re.sub(\"\\s\\d+\", \" \", doc) # remove undividual digits but not when inside a word\n",
        "    # doc = re.sub(r'\\W',' ', doc) # replace One non-word character with space\n",
        "    # doc = re.sub(r'\\s+',' ', doc) # replace one or more white space with a single space\n",
        "    # doc = re.sub('\\[.*?\\]', '', doc) # ??\n",
        "    # doc = re.sub('[%s]' % re.escape(string.punctuation), '', doc) # remove puctuations. this is a good one, but the problem is that it turns dates to numbers \n",
        "    # doc = re.sub('\\w*\\d\\w*', '', doc) # removes pretty much any number\n",
        "    doc = re.sub('[*.\\--:‘’“”…]', '', doc) # remove these stuff too\n",
        "    # doc = re.sub('\\n', '', doc) # remove end of line char that probably was added during scraping or so.\n",
        "    return doc\n",
        "\n",
        "def doc_cleaner2(text):\n",
        "    try:\n",
        "        decoded = unidecode.unidecode(codecs.decode(text, 'unicode_escape'))\n",
        "    except:\n",
        "        decoded = unidecode.unidecode(text)\n",
        "    apostrophe_handled = re.sub('[*<>.\\--:‘’“”…]', '', decoded) #re.sub(\"’\", \"'\", decoded)\n",
        "    expanded = ' '.join([contraction_mapping[t] if t in contraction_mapping else t for t in apostrophe_handled.split(\" \")])\n",
        "    parsed = nlp(expanded)\n",
        "    final_tokens = []\n",
        "    for t in parsed:\n",
        "        if t.is_punct or t.is_stop or t.is_space or t.like_num or t.like_url or str(t).startswith('@'):\n",
        "            pass\n",
        "        else:\n",
        "            if t.lemma_ == '-PRON-':\n",
        "                final_tokens.append(str(t))\n",
        "            else:\n",
        "                sc_removed = re.sub(\"[^a-zA-Z]\", '', str(t.lemma_))\n",
        "                if len(sc_removed) > 1:\n",
        "                    final_tokens.append(sc_removed)\n",
        "    joined = ' '.join(final_tokens)\n",
        "    spell_corrected = re.sub(r'(.)\\1+', r'\\1\\1', joined)\n",
        "    return spell_corrected\n"
      ],
      "execution_count": 0,
      "outputs": []
    },
    {
      "cell_type": "code",
      "metadata": {
        "colab_type": "code",
        "id": "893FH3Jy6WGm",
        "colab": {}
      },
      "source": [
        "df0['Clean_HEADLINE_ALERT_TEXT'] = pd.DataFrame(df0['HEADLINE_ALERT_TEXT'].apply(lambda x: doc_cleaner2(x)))\n"
      ],
      "execution_count": 0,
      "outputs": []
    },
    {
      "cell_type": "code",
      "metadata": {
        "colab_type": "code",
        "id": "z73y4NaLXymM",
        "colab": {
          "base_uri": "https://localhost:8080/",
          "height": 284
        },
        "outputId": "9e062592-554e-4356-d031-590c1f59e444"
      },
      "source": [
        "df0.isnull().sum()"
      ],
      "execution_count": 10,
      "outputs": [
        {
          "output_type": "execute_result",
          "data": {
            "text/plain": [
              "index                        0\n",
              "DATE                         0\n",
              "TIME                         0\n",
              "UNIQUE_STORY_INDEX           0\n",
              "EVENT_TYPE                   0\n",
              "PNAC                         0\n",
              "STORY_DATE_TIME              0\n",
              "HEADLINE_ALERT_TEXT          0\n",
              "PRODUCTS                     0\n",
              "TOPICS                       0\n",
              "STORY_TYPE                   0\n",
              "TABULAR_FLAG                 0\n",
              "LANGUAGE                     0\n",
              "Clean_HEADLINE_ALERT_TEXT    0\n",
              "dtype: int64"
            ]
          },
          "metadata": {
            "tags": []
          },
          "execution_count": 10
        }
      ]
    },
    {
      "cell_type": "code",
      "metadata": {
        "colab_type": "code",
        "id": "1c6lgV8-Y2f-",
        "colab": {}
      },
      "source": [
        "# df0.isna().sum()"
      ],
      "execution_count": 0,
      "outputs": []
    },
    {
      "cell_type": "code",
      "metadata": {
        "colab_type": "code",
        "id": "YUnc5xefXzvj",
        "outputId": "2987696c-9459-471c-b80b-b6f1fd9a55d3",
        "colab": {
          "base_uri": "https://localhost:8080/",
          "height": 52
        }
      },
      "source": [
        "df0['HEADLINE_ALERT_TEXT'][df0['Clean_HEADLINE_ALERT_TEXT']=='']"
      ],
      "execution_count": 11,
      "outputs": [
        {
          "output_type": "execute_result",
          "data": {
            "text/plain": [
              "17301    ���������\n",
              "Name: HEADLINE_ALERT_TEXT, dtype: object"
            ]
          },
          "metadata": {
            "tags": []
          },
          "execution_count": 11
        }
      ]
    },
    {
      "cell_type": "code",
      "metadata": {
        "colab_type": "code",
        "id": "cAXHix5tdw6b",
        "colab": {}
      },
      "source": [
        "# df0.drop([df0['Clean_HEADLINE_ALERT_TEXT']==''])\n",
        "df0.drop(df0[df0['Clean_HEADLINE_ALERT_TEXT']==''].index, axis=0, inplace=True)"
      ],
      "execution_count": 0,
      "outputs": []
    },
    {
      "cell_type": "code",
      "metadata": {
        "colab_type": "code",
        "id": "OVEBv-nYX2g0",
        "colab": {}
      },
      "source": [
        "# df0.dropna(inplace=True)\n",
        "# df0 = df0.reset_index(drop=True)"
      ],
      "execution_count": 0,
      "outputs": []
    },
    {
      "cell_type": "code",
      "metadata": {
        "colab_type": "code",
        "id": "Mwv8gPggdofX",
        "outputId": "dc061954-a80a-482f-aa64-aec4ae77be6f",
        "colab": {
          "base_uri": "https://localhost:8080/",
          "height": 35
        }
      },
      "source": [
        "df0.shape"
      ],
      "execution_count": 13,
      "outputs": [
        {
          "output_type": "execute_result",
          "data": {
            "text/plain": [
              "(20000, 14)"
            ]
          },
          "metadata": {
            "tags": []
          },
          "execution_count": 13
        }
      ]
    },
    {
      "cell_type": "code",
      "metadata": {
        "colab_type": "code",
        "id": "4Jt0rb4epRV0",
        "colab": {}
      },
      "source": [
        "pd.set_option('display.max_colwidth', -1)\n",
        "df0.iloc[0:20]['Clean_HEADLINE_ALERT_TEXT']"
      ],
      "execution_count": 0,
      "outputs": []
    },
    {
      "cell_type": "markdown",
      "metadata": {
        "colab_type": "text",
        "id": "VjjdALDc5DJc"
      },
      "source": [
        "## Create the corpus of docs for generating the vocab dictionary"
      ]
    },
    {
      "cell_type": "code",
      "metadata": {
        "colab_type": "code",
        "id": "5HSlYHJoHNjp",
        "colab": {}
      },
      "source": [
        "# in case one of your text columns is in list format you need to convert them to a string so TFIDF can work with it\n",
        "# df['yourTextCol']=[\" \".join(docList) for docList in df['yourTextCol'].values]\n",
        "corpus = df0['Clean_HEADLINE_ALERT_TEXT'].apply(lambda item: nltk.sent_tokenize(item) )\n",
        "corpus = [\" \".join(docList) for docList in corpus.values]\n"
      ],
      "execution_count": 0,
      "outputs": []
    },
    {
      "cell_type": "code",
      "metadata": {
        "colab_type": "code",
        "id": "uY3okOokid3F",
        "colab": {}
      },
      "source": [
        "min(corpus)"
      ],
      "execution_count": 0,
      "outputs": []
    },
    {
      "cell_type": "markdown",
      "metadata": {
        "colab_type": "text",
        "id": "kMdxmfMYJ7uI"
      },
      "source": [
        "# Funtion to get tfidf matrix \n",
        "## this is a very slow code but is here just for reference to what a typical tfidf looked like  "
      ]
    },
    {
      "cell_type": "code",
      "metadata": {
        "colab_type": "code",
        "id": "ianOv-jK-2BZ",
        "colab": {}
      },
      "source": [
        "\n",
        "def get_tfidfM(corpus):\n",
        "  # cleaning is done already above using a separate function\n",
        "  for i in range(len(corpus )):\n",
        "      # corpus[i] = ''.join(map(str, corpus[i])) # you need to make this list-to-string mapping for tfidf to work with it\n",
        "      corpus [i] = corpus [i].lower()\n",
        "      corpus [i] = re.sub(r'\\W',' ', corpus [i]) # replace One non-word character with space\n",
        "      corpus [i] = re.sub(r'\\s+',' ', corpus [i]) # replace one or more white space with a single space\n",
        "\n",
        "  ##############################################################\n",
        "  # create the corpus vocab (dictionary) and reduce it to the highest frequency terms\n",
        "  ###########################################################\n",
        "\n",
        "  dict_count = {}  # keys: unique token in corpus, values: its count in the corpus\n",
        "  for item in corpus:                         # for every doc in corpus\n",
        "      item_tokens = nltk.word_tokenize(item)  \n",
        "      for token in item_tokens:               # for every token in tokenized doc\n",
        "          if token not in dict_count.keys():  # if is not in dict, add it and count it as one\n",
        "              dict_count[token] = 1  \n",
        "          else:\n",
        "              dict_count[token] += 1          # if the token already exists increment its count\n",
        "\n",
        "  ##############################################################\n",
        "  # decide how many token from your vocab you want to use \n",
        "  ###########################################################\n",
        "\n",
        "  import heapq\n",
        "  most_freq_tokens = heapq.nlargest(500, dict_count, key= dict_count.get)     # if your vocab is in dict format: keys and values\n",
        "  # most_freq_tokens = heapq.nlargest(500, dict_count, key= lambda e:e[1])  # if you happend to make tuples of tokens and counts in a list, use this\n",
        "\n",
        "  ##############################################################\n",
        "  # create the idf dictionary of tokens and their idf score\n",
        "  ###########################################################\n",
        "\n",
        "  idf_score = {} # the keys: the token in vocab, the values: idf of that token, the list is the size of the # of docs\n",
        "  for token in most_freq_tokens:   # go through every token in vocab\n",
        "      doc_with_token = 0\n",
        "      for item in corpus:           # go through every doc in corpus\n",
        "          if token in nltk.word_tokenize(item):   # if vocab token is present in the doc(nomatter how many times) increment the count. do this for every doc\n",
        "              doc_with_token += 1\n",
        "      idf_score[token] = np.log(len(corpus)/(1 + doc_with_token))  # populate the idf dict with vocab token and its idf score, then move to the next token\n",
        "\n",
        "  ##############################################################\n",
        "  # create the tf dictionary: key: most freq word(filtered above), value: a list (of tf values in each doc, dim is # of docs)\n",
        "  ###########################################################\n",
        "\n",
        "  tf_score = {} # this will contain tokens of vocab, as keys. its value is a list of tf scores in each doc, dim is # of docs.\n",
        "  for token in most_freq_tokens: # for every token in the new filtered vocab\n",
        "      item_tf_vector = [] # each element in the list is the tf value of the word in the doc of the corpus that we are going to itterate below\n",
        "      for item in corpus: # for every doc in corpus\n",
        "          doc_freq = 0\n",
        "          for word in nltk.word_tokenize(item):  # for every token in that doc\n",
        "              if token == word:\n",
        "                    doc_freq += 1   # increment the count for multiple occurances of the token in that doc\n",
        "          word_tf = doc_freq/(len(nltk.word_tokenize(item))+1) # total counts of that token in that doc / num of tokens in that doc\n",
        "          # word_tf = np.log((1+doc_freq)/(1+len(nltk.word_tokenize(item))))  # gives me negative values check it later why\n",
        "          item_tf_vector.append(word_tf)  # this list correspond to one doc\n",
        "      tf_score[token] = item_tf_vector # now every token in vocab becomes a key is tf_score dict and its value is the list of tf scores in every doc of corpus\n",
        "  return tf_score, idf_score\n"
      ],
      "execution_count": 0,
      "outputs": []
    },
    {
      "cell_type": "code",
      "metadata": {
        "colab_type": "code",
        "id": "1r7W_oEaAKtm",
        "outputId": "1f227385-4f43-4b21-c7b0-7b7c9d14194b",
        "colab": {
          "base_uri": "https://localhost:8080/",
          "height": 52
        }
      },
      "source": [
        "%time tf_score, idf_score = get_tfidfM(corpus)"
      ],
      "execution_count": 0,
      "outputs": [
        {
          "output_type": "stream",
          "text": [
            "CPU times: user 38min 29s, sys: 466 ms, total: 38min 30s\n",
            "Wall time: 38min 30s\n"
          ],
          "name": "stdout"
        }
      ]
    },
    {
      "cell_type": "code",
      "metadata": {
        "colab_type": "code",
        "id": "527Wja8AFZ5g",
        "outputId": "46273810-bc0e-4ee6-dc53-536699d498e7",
        "colab": {
          "base_uri": "https://localhost:8080/",
          "height": 55
        }
      },
      "source": [
        "print(tf_score.keys()) "
      ],
      "execution_count": 0,
      "outputs": [
        {
          "output_type": "stream",
          "text": [
            "dict_keys(['news', 'update', 'test', 'ignore', 'share', 'say', 'alert', 'reuters', 'page', 'pct', 'june', 'price', 'buy', 'order', 'nyse', 'rating', 'imbalance', 'research', 'service', 'target', 'insider', 'stock', 'raise', 'jun', 'market', 'new', 'power', 'mln', 'inc', 'sell', 'bank', 'moody', 'result', 'company', 'india', 'bond', 'emea', 'bln', 'apac', 'north', 'amer', 'deal', 'gas', 'sale', 'fitch', 'china', 'euro', 'datum', 'fall', 'global', 'outlook', 'cut', 'rate', 'rise', 'oil', 'exchange', 'european', 'issue', 'low', 'high', 'america', 'group', 'open', 'energy', 'central', 'management', 'vs', 'pmi', 'bid', 'trade', 'index', 'corp', 'wealth', 'plant', 'financial', 'city', 'year', 'see', 'assign', 'europe', 'report', 'day', 'dollar', 'american', 'announce', 'daily', 'capital', 'offer', 'co', 'commodity', 'investment', 'gold', 'month', 'watch', 'general', 'ltd', 'firm', 'economy', 'stable', 'block', 'april', 'aa', 'hit', 'hold', 'asia', 'diary', 'gain', 'canada', 'icis', 'heren', 'trades', 'fed', 'uk', 'start', 'note', 'inr', 'weak', 'end', 'show', 'plan', 'school', 'debt', 'foreign', 'week', 'unit', 'county', 'district', 'factor', 'fund', 'trading', 'credit', 'ult', 'future', 'percent', 'lynx', 'ahead', 'wheat', 'series', 'close', 'revenue', 'thomson', 'banks', 'outage', 'outperform', 'fix', 'cash', 'expect', 'manufacturing', 'alerting', 'turkish', 'upcoming', 'growth', 'ontario', 'coal', 'downgrade', 'view', 'zone', 'sealed', 'emerging', 'bids', 'negative', 'corporate', 'affirm', 'rebound', 'warehouse', 'return', 'california', 'senior', 'unavailable', 'services', 'cbot', 'call', 'gmt', 'contract', 'trust', 'japan', 'event', 'agreement', 'miss', 'statistics', 'mw', 'source', 'nsei', 'asset', 'neutral', 'pjm', 'win', 'extend', 'indonesia', 'talk', 'st', 'political', 'transmission', 'port', 'australia', 'bonds', 'set', 'national', 'cbank', 'investor', 'resources', 'metal', 'chief', 'resolve', 'crude', 'seek', 'forecast', 'drop', 'look', 'board', 'money', 'demand', 'yen', 'sign', 'loss', 'morning', 'technology', 'lead', 'protest', 'economic', 'eurobond', 'earning', 'banking', 'asian', 'bill', 'steady', 'agricultural', 'ny', 'review', 'tax', 'shr', 'africa', 'refinery', 'good', 'change', 'standing', 'export', 'comex', 'interest', 'eu', 'finance', 'rupee', 'tennisfrench', 'equity', 'auction', 'plc', 'stimulus', 'eye', 'total', 'stake', 'press', 'nikkei', 'single', 'supply', 'tableindia', 'south', 'yield', 'put', 'ease', 'support', 'case', 'business', 'morgan', 'early', 'brazil', 'acquisition', 'july', 'point', 'edge', 'yy', 'state', 'tender', 'turkey', 'loan', 'ecb', 'earnings', 'russia', 'income', 'mexico', 'strong', 'indian', 'hope', 'round', 'volume', 'court', 'remain', 'government', 'halt', 'cuts', 'suisse', 'baseball', 'syria', 'czech', 'output', 'official', 'pm', 'suspect', 'key', 'net', 'term', 'planned', 'confirm', 'london', 'man', 'german', 'yr', 'carbon', 'industries', 'factory', 'inflation', 'world', 'international', 'message', 'swiss', 'hsbc', 'dip', 'slow', 'summary', 'profit', 'ceo', 'slip', 'consumer', 'proposed', 'drug', 'estimate', 'french', 'reach', 'charge', 'canadian', 'usda', 'sp', 'maintenance', 'shut', 'production', 'march', 'oklahoma', 'lower', 'sector', 'fy', 'project', 'roundup', 'italy', 'soy', 'hits', 'properties', 'flat', 'kill', 'final', 'take', 'risk', 'water', 'range', 'offering', 'healthcare', 'value', 'media', 'intel', 'time', 'security', 'east', 'operation', 'stop', 'boost', 'sport', 'merck', 'public', 'import', 'silver', 'apple', 'option', 'cboe', 'police', 'need', 'un', 'championship', 'trial', 'britain', 'acquire', 'bse', 'car', 'delay', 'ieso', 'weather', 'impact', 'currency', 'mortgage', 'increase', 'today', 'holdings', 'resume', 'rdf', 'soybean', 'second', 'rates', 'concern', 'boj', 'baird', 'cfo', 'skorea', 'near', 'turn', 'add', 'kong', 'merger', 'dlr', 'tx', 'mining', 'active', 'nasdaq', 'bb', 'datascope', 'force', 'action', 'western', 'rule', 'auto', 'enter', 'theflyonthewallcom', 'natural', 'cancer', 'indicators', 'jump', 'exploration', 'private', 'corn', 'registration', 'major', 'egypt', 'vehicle', 'get', 'deposit', 'focus', 'weekly', 'perform', 'session', 'housing', 'ubs', 'ask', 'job', 'house', 'strike', 'minister', 'deficit', 'tokyo', 'list', 'fx', 'common', 'average', 'positive', 'possible', 'west', 'tornado', 'line', 'big', 'sec', 'amex', 'break', 'hong', 'hog', 'pacific', 'ice', 'work', 'freeport', 'fuel', 'vote', 'approve', 'cme', 'lift', 'budget', 'agree', 'ifr', 'telecoms', 'nj', 'factbox', 'appear', 'james', 'reform', 'death', 'filing', 'record', 'revise', 'program', 'breakingviews', 'launch', 'propose', 'complete', 'help', 'balance', 'govt', 'information', 'safrica', 'amman', 'rally', 'property', 'rev', 'strategy', 'securities', 'ibes', 'parent', 'nuclear'])\n"
          ],
          "name": "stdout"
        }
      ]
    },
    {
      "cell_type": "markdown",
      "metadata": {
        "colab_type": "text",
        "id": "vGs62ymy-SOY"
      },
      "source": [
        "### Populate the sparse matrix of tfidf scores. size: (size of vocab) X (# of docs)"
      ]
    },
    {
      "cell_type": "code",
      "metadata": {
        "colab_type": "code",
        "id": "BYuN8_870pan",
        "colab": {}
      },
      "source": [
        "tfidf_spars_M = [] # list(size:# of tokens in vocab) of lists(size:# of docs). each list is the tfidf score list for every token\n",
        "for token in tf_score.keys():  \n",
        "    tfidf_scores = []\n",
        "    for tf_items in tf_score[token]:    # go through the every tf value in the list for each token, the size of each list is # of docs in corpus\n",
        "        tfidf_score = tf_items * idf_score[token] # idf score for each token is only one value, is multiplied by every tf score associated to that token\n",
        "        tfidf_scores.append(tfidf_score) # the list of tfidf scores for each token is appended to tfidf_scores list.\n",
        "    tfidf_spars_M.append(tfidf_scores)   \n"
      ],
      "execution_count": 0,
      "outputs": []
    },
    {
      "cell_type": "markdown",
      "metadata": {
        "colab_type": "text",
        "id": "7BfbUYN7BFTk"
      },
      "source": [
        "### Convert tfidf matrix to an array, then transpose it to get the right size, then dataframe it"
      ]
    },
    {
      "cell_type": "code",
      "metadata": {
        "colab_type": "code",
        "id": "Ac4mXUIl_7DF",
        "colab": {}
      },
      "source": [
        "tf_idf_M = np.asarray(tfidf_spars_M)  # size: (size of vocab) X (# of docs)\n",
        "# we need to transpose this to get a matrix of size (# of docs) X (size of vocab)\n",
        "\n",
        "tf_idf_M = np.transpose(tf_idf_M)\n",
        "\n",
        "tfidfM = pd.DataFrame(tf_idf_M, columns=tf_score.keys())\n"
      ],
      "execution_count": 0,
      "outputs": []
    },
    {
      "cell_type": "code",
      "metadata": {
        "colab_type": "code",
        "id": "vw-rINPNBXrG",
        "colab": {}
      },
      "source": [
        "tfidfM.head(2)"
      ],
      "execution_count": 0,
      "outputs": []
    },
    {
      "cell_type": "code",
      "metadata": {
        "colab_type": "code",
        "id": "OgPUvL1uIZ-i",
        "outputId": "9a5d9403-1134-495c-b2aa-d6e40983e218",
        "colab": {
          "base_uri": "https://localhost:8080/",
          "height": 155
        }
      },
      "source": [
        "tfidfM.T.head(2)"
      ],
      "execution_count": 0,
      "outputs": [
        {
          "output_type": "execute_result",
          "data": {
            "text/html": [
              "<div>\n",
              "<style scoped>\n",
              "    .dataframe tbody tr th:only-of-type {\n",
              "        vertical-align: middle;\n",
              "    }\n",
              "\n",
              "    .dataframe tbody tr th {\n",
              "        vertical-align: top;\n",
              "    }\n",
              "\n",
              "    .dataframe thead th {\n",
              "        text-align: right;\n",
              "    }\n",
              "</style>\n",
              "<table border=\"1\" class=\"dataframe\">\n",
              "  <thead>\n",
              "    <tr style=\"text-align: right;\">\n",
              "      <th></th>\n",
              "      <th>0</th>\n",
              "      <th>1</th>\n",
              "      <th>2</th>\n",
              "      <th>3</th>\n",
              "      <th>4</th>\n",
              "      <th>5</th>\n",
              "      <th>6</th>\n",
              "      <th>7</th>\n",
              "      <th>8</th>\n",
              "      <th>9</th>\n",
              "      <th>10</th>\n",
              "      <th>11</th>\n",
              "      <th>12</th>\n",
              "      <th>13</th>\n",
              "      <th>14</th>\n",
              "      <th>15</th>\n",
              "      <th>16</th>\n",
              "      <th>17</th>\n",
              "      <th>18</th>\n",
              "      <th>19</th>\n",
              "      <th>20</th>\n",
              "      <th>21</th>\n",
              "      <th>22</th>\n",
              "      <th>23</th>\n",
              "      <th>24</th>\n",
              "      <th>25</th>\n",
              "      <th>26</th>\n",
              "      <th>27</th>\n",
              "      <th>28</th>\n",
              "      <th>29</th>\n",
              "      <th>30</th>\n",
              "      <th>31</th>\n",
              "      <th>32</th>\n",
              "      <th>33</th>\n",
              "      <th>34</th>\n",
              "      <th>35</th>\n",
              "      <th>36</th>\n",
              "      <th>37</th>\n",
              "      <th>38</th>\n",
              "      <th>39</th>\n",
              "      <th>...</th>\n",
              "      <th>19960</th>\n",
              "      <th>19961</th>\n",
              "      <th>19962</th>\n",
              "      <th>19963</th>\n",
              "      <th>19964</th>\n",
              "      <th>19965</th>\n",
              "      <th>19966</th>\n",
              "      <th>19967</th>\n",
              "      <th>19968</th>\n",
              "      <th>19969</th>\n",
              "      <th>19970</th>\n",
              "      <th>19971</th>\n",
              "      <th>19972</th>\n",
              "      <th>19973</th>\n",
              "      <th>19974</th>\n",
              "      <th>19975</th>\n",
              "      <th>19976</th>\n",
              "      <th>19977</th>\n",
              "      <th>19978</th>\n",
              "      <th>19979</th>\n",
              "      <th>19980</th>\n",
              "      <th>19981</th>\n",
              "      <th>19982</th>\n",
              "      <th>19983</th>\n",
              "      <th>19984</th>\n",
              "      <th>19985</th>\n",
              "      <th>19986</th>\n",
              "      <th>19987</th>\n",
              "      <th>19988</th>\n",
              "      <th>19989</th>\n",
              "      <th>19990</th>\n",
              "      <th>19991</th>\n",
              "      <th>19992</th>\n",
              "      <th>19993</th>\n",
              "      <th>19994</th>\n",
              "      <th>19995</th>\n",
              "      <th>19996</th>\n",
              "      <th>19997</th>\n",
              "      <th>19998</th>\n",
              "      <th>19999</th>\n",
              "    </tr>\n",
              "  </thead>\n",
              "  <tbody>\n",
              "    <tr>\n",
              "      <th>news</th>\n",
              "      <td>0.0</td>\n",
              "      <td>0.000000</td>\n",
              "      <td>0.000000</td>\n",
              "      <td>0.0</td>\n",
              "      <td>0.0</td>\n",
              "      <td>0.0</td>\n",
              "      <td>0.000000</td>\n",
              "      <td>0.0</td>\n",
              "      <td>0.0</td>\n",
              "      <td>0.0</td>\n",
              "      <td>0.0</td>\n",
              "      <td>0.681616</td>\n",
              "      <td>0.0</td>\n",
              "      <td>0.0</td>\n",
              "      <td>0.000000</td>\n",
              "      <td>0.000000</td>\n",
              "      <td>0.0</td>\n",
              "      <td>0.0</td>\n",
              "      <td>0.0</td>\n",
              "      <td>0.0</td>\n",
              "      <td>0.0</td>\n",
              "      <td>0.000000</td>\n",
              "      <td>0.0</td>\n",
              "      <td>0.0</td>\n",
              "      <td>0.0</td>\n",
              "      <td>0.0</td>\n",
              "      <td>0.0</td>\n",
              "      <td>0.0</td>\n",
              "      <td>0.185895</td>\n",
              "      <td>0.0</td>\n",
              "      <td>0.0</td>\n",
              "      <td>0.681616</td>\n",
              "      <td>0.000000</td>\n",
              "      <td>0.000000</td>\n",
              "      <td>0.0</td>\n",
              "      <td>0.000000</td>\n",
              "      <td>0.0</td>\n",
              "      <td>0.681616</td>\n",
              "      <td>0.000000</td>\n",
              "      <td>0.0</td>\n",
              "      <td>...</td>\n",
              "      <td>0.0</td>\n",
              "      <td>0.0</td>\n",
              "      <td>0.0</td>\n",
              "      <td>0.0</td>\n",
              "      <td>0.0</td>\n",
              "      <td>0.0</td>\n",
              "      <td>0.0</td>\n",
              "      <td>0.000000</td>\n",
              "      <td>0.0</td>\n",
              "      <td>0.227205</td>\n",
              "      <td>0.0</td>\n",
              "      <td>0.0</td>\n",
              "      <td>0.0</td>\n",
              "      <td>0.681616</td>\n",
              "      <td>0.0</td>\n",
              "      <td>0.000000</td>\n",
              "      <td>0.0</td>\n",
              "      <td>0.0</td>\n",
              "      <td>0.0</td>\n",
              "      <td>0.255606</td>\n",
              "      <td>0.0</td>\n",
              "      <td>0.0</td>\n",
              "      <td>0.0</td>\n",
              "      <td>0.0</td>\n",
              "      <td>0.0</td>\n",
              "      <td>0.340808</td>\n",
              "      <td>0.0</td>\n",
              "      <td>0.511212</td>\n",
              "      <td>0.0</td>\n",
              "      <td>0.0</td>\n",
              "      <td>0.0</td>\n",
              "      <td>0.0</td>\n",
              "      <td>0.0</td>\n",
              "      <td>0.0</td>\n",
              "      <td>0.0</td>\n",
              "      <td>0.0</td>\n",
              "      <td>0.0</td>\n",
              "      <td>0.0</td>\n",
              "      <td>0.000000</td>\n",
              "      <td>0.0</td>\n",
              "    </tr>\n",
              "    <tr>\n",
              "      <th>update</th>\n",
              "      <td>0.0</td>\n",
              "      <td>0.670048</td>\n",
              "      <td>0.335024</td>\n",
              "      <td>0.0</td>\n",
              "      <td>0.0</td>\n",
              "      <td>0.0</td>\n",
              "      <td>0.670048</td>\n",
              "      <td>0.0</td>\n",
              "      <td>0.0</td>\n",
              "      <td>0.0</td>\n",
              "      <td>0.0</td>\n",
              "      <td>0.000000</td>\n",
              "      <td>0.0</td>\n",
              "      <td>0.0</td>\n",
              "      <td>0.446699</td>\n",
              "      <td>0.536038</td>\n",
              "      <td>0.0</td>\n",
              "      <td>0.0</td>\n",
              "      <td>0.0</td>\n",
              "      <td>0.0</td>\n",
              "      <td>0.0</td>\n",
              "      <td>0.382885</td>\n",
              "      <td>0.0</td>\n",
              "      <td>0.0</td>\n",
              "      <td>0.0</td>\n",
              "      <td>0.0</td>\n",
              "      <td>0.0</td>\n",
              "      <td>0.0</td>\n",
              "      <td>0.000000</td>\n",
              "      <td>0.0</td>\n",
              "      <td>0.0</td>\n",
              "      <td>0.000000</td>\n",
              "      <td>0.297799</td>\n",
              "      <td>0.335024</td>\n",
              "      <td>0.0</td>\n",
              "      <td>0.297799</td>\n",
              "      <td>0.0</td>\n",
              "      <td>0.000000</td>\n",
              "      <td>0.670048</td>\n",
              "      <td>0.0</td>\n",
              "      <td>...</td>\n",
              "      <td>0.0</td>\n",
              "      <td>0.0</td>\n",
              "      <td>0.0</td>\n",
              "      <td>0.0</td>\n",
              "      <td>0.0</td>\n",
              "      <td>0.0</td>\n",
              "      <td>0.0</td>\n",
              "      <td>0.335024</td>\n",
              "      <td>0.0</td>\n",
              "      <td>0.000000</td>\n",
              "      <td>0.0</td>\n",
              "      <td>0.0</td>\n",
              "      <td>0.0</td>\n",
              "      <td>0.000000</td>\n",
              "      <td>0.0</td>\n",
              "      <td>0.297799</td>\n",
              "      <td>0.0</td>\n",
              "      <td>0.0</td>\n",
              "      <td>0.0</td>\n",
              "      <td>0.000000</td>\n",
              "      <td>0.0</td>\n",
              "      <td>0.0</td>\n",
              "      <td>0.0</td>\n",
              "      <td>0.0</td>\n",
              "      <td>0.0</td>\n",
              "      <td>0.000000</td>\n",
              "      <td>0.0</td>\n",
              "      <td>0.000000</td>\n",
              "      <td>0.0</td>\n",
              "      <td>0.0</td>\n",
              "      <td>0.0</td>\n",
              "      <td>0.0</td>\n",
              "      <td>0.0</td>\n",
              "      <td>0.0</td>\n",
              "      <td>0.0</td>\n",
              "      <td>0.0</td>\n",
              "      <td>0.0</td>\n",
              "      <td>0.0</td>\n",
              "      <td>0.297799</td>\n",
              "      <td>0.0</td>\n",
              "    </tr>\n",
              "  </tbody>\n",
              "</table>\n",
              "<p>2 rows × 20000 columns</p>\n",
              "</div>"
            ],
            "text/plain": [
              "          0         1         2    3    4  ...  19995  19996  19997     19998  19999\n",
              "news    0.0  0.000000  0.000000  0.0  0.0  ...  0.0    0.0    0.0    0.000000  0.0  \n",
              "update  0.0  0.670048  0.335024  0.0  0.0  ...  0.0    0.0    0.0    0.297799  0.0  \n",
              "\n",
              "[2 rows x 20000 columns]"
            ]
          },
          "metadata": {
            "tags": []
          },
          "execution_count": 34
        }
      ]
    },
    {
      "cell_type": "markdown",
      "metadata": {
        "colab_type": "text",
        "id": "XSpCCTJvNG3-"
      },
      "source": [
        "1- tfidfM: every row is a doc, with tfidf scores for every token in vocab  \n",
        "2- tfidf.T : every row is a token with all its tfidf score across docs(cols)  \n",
        "3- tfidfM.T[col].nlargest(n).index.tolist(): get the largest n scores in each col(ie each doc) get their index(i.e the tokens), put them in a list  \n",
        "4- do this for every col  \n",
        "n, col in enumerate(tfidfM.T): go through every row  \n",
        "but now n is enumerate idex which is fine, as if it's representing every doc index  \n",
        "5- at the end you have a dictionary of indexes(doc indexes) with a lst of top score words, you convert that to a dataframe.   \n",
        "6- but you transpose it to get the same shape as your dataset  \n"
      ]
    },
    {
      "cell_type": "code",
      "metadata": {
        "colab_type": "code",
        "id": "oGMVUVy4JGBK",
        "outputId": "fcddefdd-91d4-446f-e132-a98ac7acece4",
        "colab": {
          "base_uri": "https://localhost:8080/",
          "height": 194
        }
      },
      "source": [
        "d = pd.DataFrame({n: tfidfM.T[col].nlargest(4).index.tolist() for n, col in enumerate(tfidfM.T)}).T\n",
        "d.head()\n"
      ],
      "execution_count": 0,
      "outputs": [
        {
          "output_type": "execute_result",
          "data": {
            "text/html": [
              "<div>\n",
              "<style scoped>\n",
              "    .dataframe tbody tr th:only-of-type {\n",
              "        vertical-align: middle;\n",
              "    }\n",
              "\n",
              "    .dataframe tbody tr th {\n",
              "        vertical-align: top;\n",
              "    }\n",
              "\n",
              "    .dataframe thead th {\n",
              "        text-align: right;\n",
              "    }\n",
              "</style>\n",
              "<table border=\"1\" class=\"dataframe\">\n",
              "  <thead>\n",
              "    <tr style=\"text-align: right;\">\n",
              "      <th></th>\n",
              "      <th>0</th>\n",
              "      <th>1</th>\n",
              "      <th>2</th>\n",
              "      <th>3</th>\n",
              "    </tr>\n",
              "  </thead>\n",
              "  <tbody>\n",
              "    <tr>\n",
              "      <th>0</th>\n",
              "      <td>emea</td>\n",
              "      <td>ignore</td>\n",
              "      <td>test</td>\n",
              "      <td>news</td>\n",
              "    </tr>\n",
              "    <tr>\n",
              "      <th>1</th>\n",
              "      <td>baseball</td>\n",
              "      <td>result</td>\n",
              "      <td>update</td>\n",
              "      <td>news</td>\n",
              "    </tr>\n",
              "    <tr>\n",
              "      <th>2</th>\n",
              "      <td>update</td>\n",
              "      <td>news</td>\n",
              "      <td>test</td>\n",
              "      <td>ignore</td>\n",
              "    </tr>\n",
              "    <tr>\n",
              "      <th>3</th>\n",
              "      <td>official</td>\n",
              "      <td>pmi</td>\n",
              "      <td>rise</td>\n",
              "      <td>china</td>\n",
              "    </tr>\n",
              "    <tr>\n",
              "      <th>4</th>\n",
              "      <td>ignore</td>\n",
              "      <td>test</td>\n",
              "      <td>news</td>\n",
              "      <td>update</td>\n",
              "    </tr>\n",
              "  </tbody>\n",
              "</table>\n",
              "</div>"
            ],
            "text/plain": [
              "          0       1       2       3\n",
              "0  emea      ignore  test    news  \n",
              "1  baseball  result  update  news  \n",
              "2  update    news    test    ignore\n",
              "3  official  pmi     rise    china \n",
              "4  ignore    test    news    update"
            ]
          },
          "metadata": {
            "tags": []
          },
          "execution_count": 35
        }
      ]
    },
    {
      "cell_type": "code",
      "metadata": {
        "colab_type": "code",
        "id": "39iSYaXQBoIg",
        "colab": {}
      },
      "source": [
        "\n",
        "d['Top Words'] = d[0].map(str) + ',' + d[1].map(str) + ',' + d[2].map(str) + ',' + d[3].map(str)\n",
        "df0['HeadLineAlertTopWords'] = d['Top Words']\n",
        "\n",
        "## if only require one top word just execute these lines\n",
        "# highScore_word = tfidfM.idxmax(axis=1,skipna=True)\n",
        "# df0['HeadLineAlertTopWord'] = highScore_word"
      ],
      "execution_count": 0,
      "outputs": []
    },
    {
      "cell_type": "code",
      "metadata": {
        "colab_type": "code",
        "id": "MD1t3lzjpbWY",
        "colab": {}
      },
      "source": [
        "pd.set_option('display.max_colwidth', 20)\n",
        "df0.head(2)"
      ],
      "execution_count": 0,
      "outputs": []
    },
    {
      "cell_type": "code",
      "metadata": {
        "colab_type": "code",
        "id": "rgtp2Pb1BbDU",
        "outputId": "b3213a03-5298-4068-d509-fce1bcbe9adb",
        "colab": {
          "base_uri": "https://localhost:8080/",
          "height": 301
        }
      },
      "source": [
        "df0.isnull().sum()"
      ],
      "execution_count": 0,
      "outputs": [
        {
          "output_type": "execute_result",
          "data": {
            "text/plain": [
              "index                        0\n",
              "DATE                         0\n",
              "TIME                         0\n",
              "UNIQUE_STORY_INDEX           0\n",
              "EVENT_TYPE                   0\n",
              "PNAC                         0\n",
              "STORY_DATE_TIME              0\n",
              "HEADLINE_ALERT_TEXT          0\n",
              "PRODUCTS                     0\n",
              "TOPICS                       0\n",
              "STORY_TYPE                   0\n",
              "TABULAR_FLAG                 0\n",
              "LANGUAGE                     0\n",
              "Clean_HEADLINE_ALERT_TEXT    1\n",
              "HeadLineAlertTopWords        0\n",
              "dtype: int64"
            ]
          },
          "metadata": {
            "tags": []
          },
          "execution_count": 43
        }
      ]
    },
    {
      "cell_type": "code",
      "metadata": {
        "colab_type": "code",
        "id": "tnWlaBhiB1sz",
        "colab": {}
      },
      "source": [
        "df0.dropna(inplace=True)\n",
        "df0 = df0.reset_index(drop=True)"
      ],
      "execution_count": 0,
      "outputs": []
    },
    {
      "cell_type": "code",
      "metadata": {
        "colab_type": "code",
        "id": "toFAZTQusDCm",
        "colab": {}
      },
      "source": [
        "df0.to_csv(r'/content/drive/My Drive/NLP/TR/working_folder/cleanSet_TFIDFFunc_topWord_1.csv', index=False)"
      ],
      "execution_count": 0,
      "outputs": []
    },
    {
      "cell_type": "code",
      "metadata": {
        "colab_type": "code",
        "id": "R27kkzaJik5p",
        "colab": {}
      },
      "source": [
        ""
      ],
      "execution_count": 0,
      "outputs": []
    },
    {
      "cell_type": "code",
      "metadata": {
        "colab_type": "code",
        "id": "JCQXWVnbjuSn",
        "colab": {}
      },
      "source": [
        ""
      ],
      "execution_count": 0,
      "outputs": []
    },
    {
      "cell_type": "markdown",
      "metadata": {
        "colab_type": "text",
        "id": "-tsbyibH5j6g"
      },
      "source": [
        "# Much faster: Using tfidfVectorizer to extract top score words from docs in a particular col, for each row of dataset.    "
      ]
    },
    {
      "cell_type": "markdown",
      "metadata": {
        "colab_type": "text",
        "id": "Gi4zbwJl-2Bd"
      },
      "source": [
        "## steps  \n",
        "1- choose the text column   \n",
        "2- process the text   \n",
        "3- extract name entities and add them as a column to the df  \n",
        "4- process tfidf scores on the text column,   \n",
        "5- extract top tfidf score words for each doc and put them in a new column  \n",
        "6- groupby date. do the above for timestep. in this case is a single day in the month of june  \n",
        "7-   \n",
        "\n"
      ]
    },
    {
      "cell_type": "code",
      "metadata": {
        "colab_type": "code",
        "id": "JaNOin_P-2Be",
        "colab": {}
      },
      "source": [
        "df = pd.read_csv(r'/content/drive/My Drive/NLP/TR/working_folder/cleanSet_TFIDFFunc_topWord_1.csv')\n",
        "# l = ['DATE','TIME','STORY_DATE_TIME','EVENT_TYPE','HEADLINE_ALERT_TEXT', 'PRODUCTS', 'TOPICS','STORY_TYPE', 'TABULAR_FLAG']\n",
        "df0 = pd.DataFrame(df[:20000], columns=df.columns)\n",
        "# print(df0.iloc[0:20]['HEADLINE_ALERT_TEXT'])\n",
        "# df0.groupby('DATE').nunique()"
      ],
      "execution_count": 0,
      "outputs": []
    },
    {
      "cell_type": "code",
      "metadata": {
        "colab_type": "code",
        "id": "8N3eHKR4qnwH",
        "colab": {}
      },
      "source": [
        "del df"
      ],
      "execution_count": 0,
      "outputs": []
    },
    {
      "cell_type": "code",
      "metadata": {
        "colab_type": "code",
        "id": "IvVBH5MXmYrP",
        "colab": {}
      },
      "source": [
        "pd.set_option('display.max_colwidth', -1)\n",
        "\n",
        "df0.iloc[0:20]['Clean_HEADLINE_ALERT_TEXT']"
      ],
      "execution_count": 0,
      "outputs": []
    },
    {
      "cell_type": "markdown",
      "metadata": {
        "colab_type": "text",
        "id": "ujo4EU6hyZxB"
      },
      "source": [
        "# Text processing\n",
        "## To do this cleaning I need some knowledge of the text, especialy if it is broken english news pieces"
      ]
    },
    {
      "cell_type": "markdown",
      "metadata": {
        "colab_type": "text",
        "id": "tVDIBbBo6jtM"
      },
      "source": [
        "# Lets use the preprocessed text from above for result comparison and consistency. The text cleaning process can be done differently if needed. at this point due to my limited knowledge of the text in the dataset this preprocessing might suffice."
      ]
    },
    {
      "cell_type": "code",
      "metadata": {
        "colab_type": "code",
        "id": "jsXVeW_fWTB0",
        "colab": {}
      },
      "source": [
        "df0.head(1)"
      ],
      "execution_count": 0,
      "outputs": []
    },
    {
      "cell_type": "code",
      "metadata": {
        "colab_type": "code",
        "id": "-5v7NqctWTMj",
        "colab": {}
      },
      "source": [
        "# df0['HEADLINE_ALERT_TEXT'] = pd.DataFrame(df0['HEADLINE_ALERT_TEXT'].apply(lambda x: doc_cleaner2(x)))"
      ],
      "execution_count": 0,
      "outputs": []
    },
    {
      "cell_type": "code",
      "metadata": {
        "colab_type": "code",
        "id": "jcqQeW4-WTKL",
        "colab": {}
      },
      "source": [
        "pd.set_option('display.max_colwidth', -1)\n",
        "df0.iloc[0:20]['Clean_HEADLINE_ALERT_TEXT']"
      ],
      "execution_count": 0,
      "outputs": []
    },
    {
      "cell_type": "code",
      "metadata": {
        "colab_type": "code",
        "id": "96BUpO2JWS8u",
        "colab": {}
      },
      "source": [
        ""
      ],
      "execution_count": 0,
      "outputs": []
    },
    {
      "cell_type": "markdown",
      "metadata": {
        "colab_type": "text",
        "id": "oz8AfZOwWxm4"
      },
      "source": [
        "### tfidf Vectorize your docs\n"
      ]
    },
    {
      "cell_type": "code",
      "metadata": {
        "colab_type": "code",
        "id": "28TEd2SCQf-v",
        "colab": {}
      },
      "source": [
        "cv = TfidfVectorizer(\n",
        "        min_df=2, max_df=0.9, strip_accents='unicode',\n",
        "        analyzer=\"word\", token_pattern=r'\\w{2,}', ngram_range=(1, 2),\n",
        "        use_idf=1, smooth_idf=1, sublinear_tf=1 ,stop_words='english', lowercase=False, norm='l2')\n"
      ],
      "execution_count": 0,
      "outputs": []
    },
    {
      "cell_type": "code",
      "metadata": {
        "colab_type": "code",
        "id": "NUaK9hhSQi0v",
        "outputId": "d71d45c1-5ace-4612-bd92-d208ed6c64a1",
        "colab": {
          "base_uri": "https://localhost:8080/",
          "height": 35
        }
      },
      "source": [
        "# dtm = cv.fit_transform(df0['HEADLINE_ALERT_TEXT'])\n",
        "dtm = cv.fit_transform(df0['Clean_HEADLINE_ALERT_TEXT']).todense()\n",
        "print(dtm.shape)"
      ],
      "execution_count": 23,
      "outputs": [
        {
          "output_type": "stream",
          "text": [
            "(19999, 31311)\n"
          ],
          "name": "stdout"
        }
      ]
    },
    {
      "cell_type": "code",
      "metadata": {
        "colab_type": "code",
        "id": "UOxBNCF_BL3S",
        "outputId": "783eb024-25aa-4fd2-91f3-8b8aaf0e6d69",
        "colab": {
          "base_uri": "https://localhost:8080/",
          "height": 35
        }
      },
      "source": [
        "# vocab= cv.get_feature_names()\n",
        "vocab= np.array(cv.get_feature_names())\n",
        "len(vocab)"
      ],
      "execution_count": 24,
      "outputs": [
        {
          "output_type": "execute_result",
          "data": {
            "text/plain": [
              "31311"
            ]
          },
          "metadata": {
            "tags": []
          },
          "execution_count": 24
        }
      ]
    },
    {
      "cell_type": "code",
      "metadata": {
        "colab_type": "code",
        "id": "MHuuNdHZ4y6L",
        "colab": {}
      },
      "source": [
        ""
      ],
      "execution_count": 0,
      "outputs": []
    },
    {
      "cell_type": "markdown",
      "metadata": {
        "colab_type": "text",
        "id": "0GU5NXysAJx-"
      },
      "source": [
        "## Full SVD decomposition of dtm matrix  .. This is very slow!!   \n",
        "dtm = U . Sigma . Vtranspose  \n",
        "the concept behind the use of SVD is that the factorized matrices, i.e., the decomposition matrices of U "
      ]
    },
    {
      "cell_type": "code",
      "metadata": {
        "colab_type": "code",
        "id": "cGXIz_NtAImk",
        "outputId": "88f4d047-686b-43ff-bfbe-b87fd710a399",
        "colab": {
          "base_uri": "https://localhost:8080/",
          "height": 52
        }
      },
      "source": [
        "# %time U, s, Vh = linalg.svd(dtm, full_matrices=False) # s is suppossed to be a diagonal matrix but here the output is a vector. so use np.diag(s) to get its matrix"
      ],
      "execution_count": 0,
      "outputs": [
        {
          "output_type": "stream",
          "text": [
            "CPU times: user 4h 41min 52s, sys: 3min 29s, total: 4h 45min 21s\n",
            "Wall time: 1h 12min 16s\n"
          ],
          "name": "stdout"
        }
      ]
    },
    {
      "cell_type": "markdown",
      "metadata": {
        "colab_type": "text",
        "id": "84EfgysnKOq3"
      },
      "source": [
        "# Truncated SVD   \n",
        "Much faster. only focuses on the top value singular values. i.e., grabing the top clusters(topics)"
      ]
    },
    {
      "cell_type": "code",
      "metadata": {
        "colab_type": "code",
        "id": "1LiKE3gNKSma",
        "outputId": "23f43f5b-a586-46de-8f9e-a70dceb1ad29",
        "colab": {
          "base_uri": "https://localhost:8080/",
          "height": 52
        }
      },
      "source": [
        "%time u, s, v = decomposition.randomized_svd(M= dtm, n_components= 4)\n"
      ],
      "execution_count": 25,
      "outputs": [
        {
          "output_type": "stream",
          "text": [
            "CPU times: user 1min 19s, sys: 805 ms, total: 1min 20s\n",
            "Wall time: 20.3 s\n"
          ],
          "name": "stdout"
        }
      ]
    },
    {
      "cell_type": "code",
      "metadata": {
        "colab_type": "code",
        "id": "5_TyhTmu-BED",
        "colab": {}
      },
      "source": [
        "# print(U.shape, s.shape, Vh.shape)\n",
        "print(u.shape, s.shape, v.shape)"
      ],
      "execution_count": 0,
      "outputs": []
    },
    {
      "cell_type": "markdown",
      "metadata": {
        "colab_type": "text",
        "id": "KOjDvq57Cy2R"
      },
      "source": [
        "### check the quality of your dtm decomposition"
      ]
    },
    {
      "cell_type": "code",
      "metadata": {
        "colab_type": "code",
        "id": "GDAgxgnU-Fw1",
        "colab": {}
      },
      "source": [
        "# reconstructed_dtm = U @ np.diag(s) @ Vh\n",
        "reconstructed_dtm = u @ np.diag(s) @ v\n",
        "np.allclose(reconstructed_dtm, dtm)"
      ],
      "execution_count": 0,
      "outputs": []
    },
    {
      "cell_type": "code",
      "metadata": {
        "colab_type": "code",
        "id": "S6nHTWVV3v6C",
        "outputId": "ad03efd1-b5b9-4791-e2f0-386fd7420954",
        "colab": {
          "base_uri": "https://localhost:8080/",
          "height": 283
        }
      },
      "source": [
        "plt.plot(s[:100]) # the x axis are the topics and the y axis is the singular value in s matrix."
      ],
      "execution_count": 0,
      "outputs": [
        {
          "output_type": "execute_result",
          "data": {
            "text/plain": [
              "[<matplotlib.lines.Line2D at 0x7f821173ffd0>]"
            ]
          },
          "metadata": {
            "tags": []
          },
          "execution_count": 80
        },
        {
          "output_type": "display_data",
          "data": {
            "image/png": "[encoded data removed]",
            "text/plain": [
              "<Figure size 432x288 with 1 Axes>"
            ]
          },
          "metadata": {
            "tags": []
          }
        }
      ]
    },
    {
      "cell_type": "code",
      "metadata": {
        "colab_type": "code",
        "id": "JmbCHx2t3v-g",
        "colab": {}
      },
      "source": [
        "num_top_words=4\n",
        "\n",
        "def show_topics(a):\n",
        "    top_words = lambda t: [vocab[i] for i in np.argsort(t)[:-num_top_words-1:-1]]\n",
        "    topic_words = ([top_words(t) for t in a])\n",
        "    return [','.join(t) for t in topic_words]"
      ],
      "execution_count": 0,
      "outputs": []
    },
    {
      "cell_type": "code",
      "metadata": {
        "colab_type": "code",
        "id": "sI_nDUyCzrFc",
        "colab": {}
      },
      "source": [
        "num_top_words=4\n",
        "\n",
        "def get_ngrams(a):\n",
        "    top_words = lambda t: [vocab[i] for i in np.argsort(t)[:-num_top_words-1:-1]]\n",
        "    topic_words = ([top_words(t) for t in a])\n",
        "    return [','.join(t) for t in topic_words]"
      ],
      "execution_count": 0,
      "outputs": []
    },
    {
      "cell_type": "code",
      "metadata": {
        "colab_type": "code",
        "id": "-86uslZi3wI7",
        "outputId": "bb60abcd-c070-49eb-f29d-34a58a411eba",
        "colab": {
          "base_uri": "https://localhost:8080/",
          "height": 35
        }
      },
      "source": [
        "i=2\n",
        "# get_ngrams(Vh[i:i+1])\n",
        "get_ngrams(v[i:i+1])"
      ],
      "execution_count": 0,
      "outputs": [
        {
          "output_type": "execute_result",
          "data": {
            "text/plain": [
              "['ORDER,IMBALANCE,ORDER IMBALANCE,NYSE ORDER']"
            ]
          },
          "metadata": {
            "tags": []
          },
          "execution_count": 11
        }
      ]
    },
    {
      "cell_type": "code",
      "metadata": {
        "colab_type": "code",
        "id": "X9JAsiggtzkK",
        "colab": {}
      },
      "source": [
        "# dftemp = pd.DataFrame({i: get_ngrams(Vh[i:i+1]) for i in range(Vh.shape[0])}).T\n",
        "dftemp = pd.DataFrame({i: get_ngrams(v[i:i+1]) for i in range(v.shape[0])}).T\n"
      ],
      "execution_count": 0,
      "outputs": []
    },
    {
      "cell_type": "code",
      "metadata": {
        "colab_type": "code",
        "id": "c-9styDj1IAd",
        "colab": {}
      },
      "source": [
        "dftemp.head()"
      ],
      "execution_count": 0,
      "outputs": []
    },
    {
      "cell_type": "code",
      "metadata": {
        "colab_type": "code",
        "id": "4OZzZwwt3v3t",
        "colab": {}
      },
      "source": [
        "df0['SVDTop4Ngrams'] = dftemp"
      ],
      "execution_count": 0,
      "outputs": []
    },
    {
      "cell_type": "code",
      "metadata": {
        "colab_type": "code",
        "id": "-iR6-pqM31u2",
        "colab": {}
      },
      "source": [
        "pd.set_option('display.max_colwidth', 30)\n",
        "df0.head(1)"
      ],
      "execution_count": 0,
      "outputs": []
    },
    {
      "cell_type": "code",
      "metadata": {
        "colab_type": "code",
        "id": "cQ-F0x7a4RCL",
        "colab": {}
      },
      "source": [
        "df0.to_csv(r'/content/drive/My Drive/NLP/TR/working_folder/cleanSet_TFIDFFuncTop4_SVDTop4.csv', index=False)"
      ],
      "execution_count": 0,
      "outputs": []
    },
    {
      "cell_type": "code",
      "metadata": {
        "colab_type": "code",
        "id": "_w9wpr1d4f64",
        "colab": {}
      },
      "source": [
        ""
      ],
      "execution_count": 0,
      "outputs": []
    },
    {
      "cell_type": "markdown",
      "metadata": {
        "colab_type": "text",
        "id": "Vo3sx6465BBM"
      },
      "source": [
        "# Non_Negative Matrix Factorization"
      ]
    },
    {
      "cell_type": "markdown",
      "metadata": {
        "colab_type": "text",
        "id": "8DLxE88MvdVX"
      },
      "source": [
        "## NMF Clustering the text and extracting top words associated with the text but from perspective of its assignment to a particular cluster  \n",
        "\n",
        "The concept here is to constrain our factorized matrices (from the original dataset with non-negative vaues, which docs or images are represented along columns of the dataset) to be non-negative. this facitilates intpretability of the scores.i.e.,  \n",
        "\n",
        " $$ V = W H$$  \n",
        "\n",
        "\n"
      ]
    },
    {
      "cell_type": "code",
      "metadata": {
        "colab_type": "code",
        "id": "Ew2ItGCc3v1O",
        "colab": {}
      },
      "source": [
        "\n",
        "df0 = pd.read_csv(r'/content/drive/My Drive/NLP/TR/working_folder/cleanSet_TFIDFFuncTop4_SVDTop4.csv')\n"
      ],
      "execution_count": 0,
      "outputs": []
    },
    {
      "cell_type": "code",
      "metadata": {
        "colab_type": "code",
        "id": "xs9mKlzKxLCk",
        "colab": {}
      },
      "source": [
        "df0.head(1)"
      ],
      "execution_count": 0,
      "outputs": []
    },
    {
      "cell_type": "code",
      "metadata": {
        "colab_type": "code",
        "id": "k83Y7eCnGRPB",
        "outputId": "f7abcfff-d0ff-4be9-aabd-7575e6d8f270",
        "colab": {
          "base_uri": "https://localhost:8080/",
          "height": 35
        }
      },
      "source": [
        "df0.shape"
      ],
      "execution_count": 0,
      "outputs": [
        {
          "output_type": "execute_result",
          "data": {
            "text/plain": [
              "(19999, 16)"
            ]
          },
          "metadata": {
            "tags": []
          },
          "execution_count": 19
        }
      ]
    },
    {
      "cell_type": "code",
      "metadata": {
        "colab_type": "code",
        "id": "PgS7WGrONUVK",
        "colab": {}
      },
      "source": [
        ""
      ],
      "execution_count": 0,
      "outputs": []
    },
    {
      "cell_type": "code",
      "metadata": {
        "colab_type": "code",
        "id": "v-_ff_Q_vbFF",
        "colab": {}
      },
      "source": [
        "# done already\n",
        "# df0['Clean_HEADLINE_ALERT_TEXT'] = pd.DataFrame(df0['HEADLINE_ALERT_TEXT'].apply(lambda x: doc_cleaner2(x)))\n"
      ],
      "execution_count": 0,
      "outputs": []
    },
    {
      "cell_type": "code",
      "metadata": {
        "colab_type": "code",
        "id": "LyC4N-Xj42pM",
        "colab": {}
      },
      "source": [
        "cv = TfidfVectorizer(\n",
        "        min_df=2, max_df=0.9, strip_accents='unicode',\n",
        "        analyzer=\"word\", ngram_range=(1, 2), # token_pattern=r'\\w{2,}',\n",
        "        use_idf=1, smooth_idf=1, sublinear_tf=1 ,stop_words='english', lowercase=False, norm='l2')\n",
        "\n",
        "dtm = cv.fit_transform(df0['Clean_HEADLINE_ALERT_TEXT']).todense()\n"
      ],
      "execution_count": 0,
      "outputs": []
    },
    {
      "cell_type": "code",
      "metadata": {
        "colab_type": "code",
        "id": "mLE63-OZqnMS",
        "outputId": "3fa9af92-f6a9-48c0-acf9-472a85034e77",
        "colab": {
          "base_uri": "https://localhost:8080/",
          "height": 35
        }
      },
      "source": [
        "dtm.shape"
      ],
      "execution_count": 0,
      "outputs": [
        {
          "output_type": "execute_result",
          "data": {
            "text/plain": [
              "(19999, 31311)"
            ]
          },
          "metadata": {
            "tags": []
          },
          "execution_count": 21
        }
      ]
    },
    {
      "cell_type": "code",
      "metadata": {
        "colab_type": "code",
        "id": "5Qc3uE9xH62P",
        "outputId": "192f58a6-2195-4d29-faf2-48e2939a4fa0",
        "colab": {
          "base_uri": "https://localhost:8080/",
          "height": 35
        }
      },
      "source": [
        "\n",
        "vocab= np.array(cv.get_feature_names())\n",
        "len(vocab)"
      ],
      "execution_count": 0,
      "outputs": [
        {
          "output_type": "execute_result",
          "data": {
            "text/plain": [
              "31311"
            ]
          },
          "metadata": {
            "tags": []
          },
          "execution_count": 22
        }
      ]
    },
    {
      "cell_type": "code",
      "metadata": {
        "colab_type": "code",
        "id": "QZ13WdF3oOHL",
        "outputId": "12cb6c46-7d98-4bb5-9584-7cd3a96ca51d",
        "colab": {
          "base_uri": "https://localhost:8080/",
          "height": 70
        }
      },
      "source": [
        "n= df0['EVENT_TYPE'].nunique()\n",
        "nmf_model = NMF(n_components=n, random_state=101)\n",
        "nmf_model.fit(dtm)"
      ],
      "execution_count": 0,
      "outputs": [
        {
          "output_type": "execute_result",
          "data": {
            "text/plain": [
              "NMF(alpha=0.0, beta_loss='frobenius', init=None, l1_ratio=0.0, max_iter=200,\n",
              "    n_components=4, random_state=101, shuffle=False, solver='cd', tol=0.0001,\n",
              "    verbose=0)"
            ]
          },
          "metadata": {
            "tags": []
          },
          "execution_count": 23
        }
      ]
    },
    {
      "cell_type": "code",
      "metadata": {
        "colab_type": "code",
        "id": "CluUlh8nn815",
        "colab": {}
      },
      "source": [
        ""
      ],
      "execution_count": 0,
      "outputs": []
    },
    {
      "cell_type": "code",
      "metadata": {
        "colab_type": "code",
        "id": "Ir8b5E-Yt9oU",
        "colab": {}
      },
      "source": [
        "# for index,topic in enumerate(nmf_model.components_):\n",
        "#     print(f'Top score word/phrases in cluster #{index}')\n",
        "#     print([cv.get_feature_names()[i] for i in topic.argsort()[-4:][::-1]])\n",
        "#     print('\\n')"
      ],
      "execution_count": 0,
      "outputs": []
    },
    {
      "cell_type": "code",
      "metadata": {
        "colab_type": "code",
        "id": "x7-OvHV1uDbJ",
        "colab": {}
      },
      "source": [
        "topngrams = []\n",
        "for index,topic in enumerate(nmf_model.components_):\n",
        "    topngrams.append([cv.get_feature_names()[i] for i in topic.argsort()[-4:][::-1]])\n"
      ],
      "execution_count": 0,
      "outputs": []
    },
    {
      "cell_type": "code",
      "metadata": {
        "colab_type": "code",
        "id": "4Yaon-iJuoKg",
        "outputId": "7551eb9f-10ca-4986-9f26-723ab2f74156",
        "colab": {
          "base_uri": "https://localhost:8080/",
          "height": 88
        }
      },
      "source": [
        "topngrams"
      ],
      "execution_count": 0,
      "outputs": [
        {
          "output_type": "execute_result",
          "data": {
            "text/plain": [
              "[['test ignore', 'test', 'ignore', 'ignore EMEA'],\n",
              " ['Page', 'NEWS Page', 'NEWS', 'NEWS energy'],\n",
              " ['ORDER', 'IMBALANCE', 'ORDER IMBALANCE', 'NYSE ORDER'],\n",
              " ['news', 'company', 'news company', 'commodity']]"
            ]
          },
          "metadata": {
            "tags": []
          },
          "execution_count": 25
        }
      ]
    },
    {
      "cell_type": "code",
      "metadata": {
        "colab_type": "code",
        "id": "Oumfgb9ns5ur",
        "outputId": "c84e526c-f1ae-444c-d75e-72c7abcac8d2",
        "colab": {
          "base_uri": "https://localhost:8080/",
          "height": 141
        }
      },
      "source": [
        "topic_results = nmf_model.transform(dtm)\n",
        "topic_results"
      ],
      "execution_count": 0,
      "outputs": [
        {
          "output_type": "execute_result",
          "data": {
            "text/plain": [
              "array([[1.56230345e-01, 0.00000000e+00, 0.00000000e+00, 0.00000000e+00],\n",
              "       [2.13160390e-06, 1.74070943e-06, 8.92645797e-05, 1.36321878e-04],\n",
              "       [6.49379815e-06, 3.29113744e-06, 2.13574285e-05, 3.36933094e-05],\n",
              "       ...,\n",
              "       [1.92337973e-05, 7.39956171e-06, 1.22786362e-02, 1.72274726e-04],\n",
              "       [1.62334103e-05, 9.44907125e-05, 9.73593221e-05, 1.29731544e-04],\n",
              "       [5.24547513e-07, 1.87949151e-06, 1.46143179e-05, 1.41296367e-05]])"
            ]
          },
          "metadata": {
            "tags": []
          },
          "execution_count": 26
        }
      ]
    },
    {
      "cell_type": "code",
      "metadata": {
        "colab_type": "code",
        "id": "f-pCPK5DtBzA",
        "colab": {}
      },
      "source": [
        "df0['NMFCluster#'] = topic_results.argmax(axis=1)\n",
        "cluster_map = {0: 'cluster_1', 1: 'cluster_2', 2: 'cluster_3', 3: 'cluster_4'}\n",
        "df0['Headline_Topic_NMF'] = df0['NMFCluster#'].map(cluster_map)"
      ],
      "execution_count": 0,
      "outputs": []
    },
    {
      "cell_type": "code",
      "metadata": {
        "colab_type": "code",
        "id": "rLCgToOvtsxX",
        "colab": {}
      },
      "source": [
        "df0.head(2)"
      ],
      "execution_count": 0,
      "outputs": []
    },
    {
      "cell_type": "code",
      "metadata": {
        "colab_type": "code",
        "id": "a7kx45f90ywZ",
        "colab": {}
      },
      "source": [
        "df0['NMFTop4ngrams'] = df0['NMFCluster#'].apply(lambda i: topngrams[i] )"
      ],
      "execution_count": 0,
      "outputs": []
    },
    {
      "cell_type": "code",
      "metadata": {
        "colab_type": "code",
        "id": "tmrSNt0MLrm4",
        "colab": {}
      },
      "source": [
        "df0.head(1)"
      ],
      "execution_count": 0,
      "outputs": []
    },
    {
      "cell_type": "code",
      "metadata": {
        "colab_type": "code",
        "id": "L57FcIPjzTUV",
        "colab": {}
      },
      "source": [
        "df0.to_csv(r'/content/drive/My Drive/NLP/TR/working_folder/cleanSet_TFIDFFuncTop4_SVDTop4_NMFTop4.csv',index=False)"
      ],
      "execution_count": 0,
      "outputs": []
    },
    {
      "cell_type": "markdown",
      "metadata": {
        "colab_type": "text",
        "id": "skBVX5YjnTRo"
      },
      "source": [
        "## Extract top score ngrams using tfidfVectorizer from above "
      ]
    },
    {
      "cell_type": "code",
      "metadata": {
        "colab_type": "code",
        "id": "s9a7j00wp0nZ",
        "colab": {}
      },
      "source": [
        "d1 = pd.DataFrame(dtm, columns=vocab)"
      ],
      "execution_count": 0,
      "outputs": []
    },
    {
      "cell_type": "code",
      "metadata": {
        "colab_type": "code",
        "id": "XcR2JkBjlrV3",
        "colab": {}
      },
      "source": [
        "d1.head(1)"
      ],
      "execution_count": 0,
      "outputs": []
    },
    {
      "cell_type": "code",
      "metadata": {
        "colab_type": "code",
        "id": "YSCNF3spjR2k",
        "colab": {}
      },
      "source": [
        "d = pd.DataFrame({n: d1.T[col].nlargest(4).index.tolist() for n, col in enumerate(d1.T)}).T\n",
        "d.head()"
      ],
      "execution_count": 0,
      "outputs": []
    },
    {
      "cell_type": "code",
      "metadata": {
        "colab_type": "code",
        "id": "FhI02K0OIDRH",
        "colab": {}
      },
      "source": [
        "\n",
        "d['TopTFIDFngrams'] = d[0].map(str) + ',' + d[1].map(str) + ',' + d[2].map(str) + ',' + d[3].map(str)\n",
        "df0['TopTFIDFngrams'] = d['TopTFIDFngrams']"
      ],
      "execution_count": 0,
      "outputs": []
    },
    {
      "cell_type": "code",
      "metadata": {
        "colab_type": "code",
        "id": "oYj7C5LvJz8G",
        "colab": {}
      },
      "source": [
        "df0.head(2)"
      ],
      "execution_count": 0,
      "outputs": []
    },
    {
      "cell_type": "code",
      "metadata": {
        "colab_type": "code",
        "id": "sBKw6farJz5B",
        "colab": {}
      },
      "source": [
        "df0.to_csv(r'/content/drive/My Drive/NLP/TR/working_folder/cleanSet_TFIDFFuncTop4_SVDTop4_NMFTop4_TFIDFTop4.csv',index=False)"
      ],
      "execution_count": 0,
      "outputs": []
    },
    {
      "cell_type": "code",
      "metadata": {
        "colab_type": "code",
        "id": "j0VdVbyXp3Y-",
        "colab": {}
      },
      "source": [
        ""
      ],
      "execution_count": 0,
      "outputs": []
    },
    {
      "cell_type": "markdown",
      "metadata": {
        "colab_type": "text",
        "id": "85qlfWJqp3-h"
      },
      "source": [
        "## Examine the group by DATE documents"
      ]
    },
    {
      "cell_type": "code",
      "metadata": {
        "colab_type": "code",
        "id": "QYuaQKScaF__",
        "colab": {}
      },
      "source": [
        "pd.set_option('display.max_colwidth', 40)"
      ],
      "execution_count": 0,
      "outputs": []
    },
    {
      "cell_type": "code",
      "metadata": {
        "colab_type": "code",
        "id": "ShGOMF49vrkx",
        "colab": {}
      },
      "source": [
        "df0 = pd.read_csv(r'/content/drive/My Drive/NLP/TR/working_folder/cleanSet_TFIDFFuncTop4_SVDTop4_NMFTop4_TFIDFTop4.csv')\n",
        "# df0 = pd.read_csv(r'/content/drive/My Drive/NLP/TR/working_folder/cleanSet_TFIDFFuncTop4_SVDTop4_NMFTop4.csv')"
      ],
      "execution_count": 0,
      "outputs": []
    },
    {
      "cell_type": "code",
      "metadata": {
        "colab_type": "code",
        "id": "uPyjeUyZDrEb",
        "colab": {}
      },
      "source": [
        "df0.sort_values(by='DATE',inplace=True, ascending=True, axis=0)\n",
        "df0.reset_index(inplace=True)"
      ],
      "execution_count": 0,
      "outputs": []
    },
    {
      "cell_type": "code",
      "metadata": {
        "colab_type": "code",
        "id": "hH-YPi8LvrvX",
        "colab": {}
      },
      "source": [
        "# df.sort_values(by='DATE',inplace=True, ascending=True, axis=0)\n",
        "# df.reset_index(inplace=True)\n",
        "# l = ['DATE','TIME','STORY_DATE_TIME','EVENT_TYPE','HEADLINE_ALERT_TEXT', 'PRODUCTS', 'TOPICS','STORY_TYPE', 'TABULAR_FLAG']\n",
        "df2 = pd.DataFrame(df0, columns=df0.columns)\n"
      ],
      "execution_count": 0,
      "outputs": []
    },
    {
      "cell_type": "code",
      "metadata": {
        "colab_type": "code",
        "id": "UZOvbYnDQjgk",
        "colab": {}
      },
      "source": [
        "df_grouped = pd.DataFrame(df2.groupby(['DATE'])['EVENT_TYPE'].apply(lambda item: \". \".join(item)),columns=['EVENT_TYPE'])\n",
        "df_grouped['HEADLINE_ALERT_TEXT'] = df2.groupby(['DATE'])['HEADLINE_ALERT_TEXT'].apply(lambda item: \". \".join(item))\n",
        "df_grouped['PRODUCTS'] = df2.groupby(['DATE'])['PRODUCTS'].apply(lambda item: \". \".join(item))\n",
        "df_grouped['TOPICS'] = df2.groupby(['DATE'])['TOPICS'].apply(lambda item: \". \".join(item))\n"
      ],
      "execution_count": 0,
      "outputs": []
    },
    {
      "cell_type": "code",
      "metadata": {
        "colab_type": "code",
        "id": "jnMP4CH_QlqZ",
        "outputId": "b6817978-0d4b-4b4d-c718-058a75df2f45",
        "colab": {
          "base_uri": "https://localhost:8080/",
          "height": 35
        }
      },
      "source": [
        "df_grouped.shape"
      ],
      "execution_count": 0,
      "outputs": [
        {
          "output_type": "execute_result",
          "data": {
            "text/plain": [
              "(4, 4)"
            ]
          },
          "metadata": {
            "tags": []
          },
          "execution_count": 43
        }
      ]
    },
    {
      "cell_type": "code",
      "metadata": {
        "colab_type": "code",
        "id": "Xu7YgBTvFwi3",
        "colab": {}
      },
      "source": [
        "df_grouped.to_csv(r'/content/drive/My Drive/NLP/TR/working_folder/cleanSet_GroupByDate.csv',index=True)"
      ],
      "execution_count": 0,
      "outputs": []
    },
    {
      "cell_type": "code",
      "metadata": {
        "colab_type": "code",
        "id": "dpEfyo4Xoih9",
        "colab": {}
      },
      "source": [
        "df_grouped= pd.read_csv(r'/content/drive/My Drive/NLP/TR/working_folder/cleanSet_GroupByDate.csv')"
      ],
      "execution_count": 0,
      "outputs": []
    },
    {
      "cell_type": "code",
      "metadata": {
        "colab_type": "code",
        "id": "Yp7Rt0SCkrup",
        "colab": {}
      },
      "source": [
        "df2 = pd.DataFrame(df_grouped[:], columns=df_grouped.columns)"
      ],
      "execution_count": 0,
      "outputs": []
    },
    {
      "cell_type": "code",
      "metadata": {
        "colab_type": "code",
        "id": "gcMdMJwVeMrp",
        "colab": {}
      },
      "source": [
        "df2.head(1)"
      ],
      "execution_count": 0,
      "outputs": []
    },
    {
      "cell_type": "code",
      "metadata": {
        "colab_type": "code",
        "id": "ObKS1cUPnxtG",
        "colab": {}
      },
      "source": [
        "df_grouped['Clean_HEADLINE_ALERT_TEXT'] = pd.DataFrame(df2['HEADLINE_ALERT_TEXT'].apply(lambda x: doc_cleaner2(x)))"
      ],
      "execution_count": 0,
      "outputs": []
    },
    {
      "cell_type": "code",
      "metadata": {
        "colab_type": "code",
        "id": "CD4VOgN3nzWS",
        "colab": {}
      },
      "source": [
        "df_grouped.head(2)"
      ],
      "execution_count": 0,
      "outputs": []
    },
    {
      "cell_type": "code",
      "metadata": {
        "colab_type": "code",
        "id": "yIkAlnveoBd1",
        "colab": {}
      },
      "source": [
        "cv = TfidfVectorizer(\n",
        "        min_df=2, max_df=0.9, strip_accents='unicode',\n",
        "        analyzer=\"word\", ngram_range=(1, 2), # token_pattern=r'\\w{2,}',\n",
        "        use_idf=1, smooth_idf=1, sublinear_tf=1 ,stop_words='english', lowercase=False, norm='l2')"
      ],
      "execution_count": 0,
      "outputs": []
    },
    {
      "cell_type": "code",
      "metadata": {
        "colab_type": "code",
        "id": "U25a-rOfoFaB",
        "colab": {}
      },
      "source": [
        "dtm = cv.fit_transform(df_grouped['Clean_HEADLINE_ALERT_TEXT']).todense()"
      ],
      "execution_count": 0,
      "outputs": []
    },
    {
      "cell_type": "code",
      "metadata": {
        "colab_type": "code",
        "id": "Ko1GfTiRoL7N",
        "outputId": "15b3f58e-a79a-4fdd-d4ff-469496a72008",
        "colab": {
          "base_uri": "https://localhost:8080/",
          "height": 35
        }
      },
      "source": [
        "vocab= np.array(cv.get_feature_names())\n",
        "len(vocab)"
      ],
      "execution_count": 0,
      "outputs": [
        {
          "output_type": "execute_result",
          "data": {
            "text/plain": [
              "8889"
            ]
          },
          "metadata": {
            "tags": []
          },
          "execution_count": 57
        }
      ]
    },
    {
      "cell_type": "code",
      "metadata": {
        "colab_type": "code",
        "id": "PqfLJaeroOiW",
        "colab": {}
      },
      "source": [
        "d1 = pd.DataFrame(dtm, columns=vocab)"
      ],
      "execution_count": 0,
      "outputs": []
    },
    {
      "cell_type": "code",
      "metadata": {
        "colab_type": "code",
        "id": "NlFvB3fHoTJt",
        "colab": {}
      },
      "source": [
        "dtemp = pd.DataFrame({n: d1.T[col].nlargest(4).index.tolist() for n, col in enumerate(d1.T)}).T\n",
        "dtemp.head()"
      ],
      "execution_count": 0,
      "outputs": []
    },
    {
      "cell_type": "code",
      "metadata": {
        "colab_type": "code",
        "id": "x_ZhxTGyoV0N",
        "outputId": "18d070c2-f52e-4fcf-b935-3ef29d82b462",
        "colab": {
          "base_uri": "https://localhost:8080/",
          "height": 35
        }
      },
      "source": [
        "dtemp.shape"
      ],
      "execution_count": 0,
      "outputs": [
        {
          "output_type": "execute_result",
          "data": {
            "text/plain": [
              "(4, 4)"
            ]
          },
          "metadata": {
            "tags": []
          },
          "execution_count": 60
        }
      ]
    },
    {
      "cell_type": "code",
      "metadata": {
        "colab_type": "code",
        "id": "Qe7ERDLBeM1r",
        "colab": {}
      },
      "source": [
        "df_grouped['TopHeadLineAlertDateGroupByngrams'] = dtemp[0].map(str) + ', ' + dtemp[1].map(str) + ', ' + dtemp[2].map(str) + ', ' + dtemp[3].map(str)\n",
        "# df0['TopTFIDFngrams'] = d['TopTFIDFngrams']"
      ],
      "execution_count": 0,
      "outputs": []
    },
    {
      "cell_type": "code",
      "metadata": {
        "colab_type": "code",
        "id": "s6qE-F2LeNJ6",
        "colab": {}
      },
      "source": [
        "df_grouped.head(4)"
      ],
      "execution_count": 0,
      "outputs": []
    },
    {
      "cell_type": "code",
      "metadata": {
        "colab_type": "code",
        "id": "hceevgSFeMzh",
        "colab": {}
      },
      "source": [
        "df_grouped.to_csv(r'/content/drive/My Drive/NLP/TR/working_folder/cleanSet_GroupByDate_HEADLINE_ALERT_TEXT_TOPngrams.csv',index=False)"
      ],
      "execution_count": 0,
      "outputs": []
    },
    {
      "cell_type": "code",
      "metadata": {
        "colab_type": "code",
        "id": "GY2cRIKceMxO",
        "colab": {}
      },
      "source": [
        "df= pd.read_csv(r'/content/drive/My Drive/NLP/TR/working_folder/cleanSet_GroupByDate_HEADLINE_ALERT_TEXT_TOPngrams.csv')"
      ],
      "execution_count": 0,
      "outputs": []
    },
    {
      "cell_type": "code",
      "metadata": {
        "colab_type": "code",
        "id": "ZY1hZ0M_qn-H",
        "colab": {}
      },
      "source": [
        "df.head()"
      ],
      "execution_count": 0,
      "outputs": []
    },
    {
      "cell_type": "code",
      "metadata": {
        "colab_type": "code",
        "id": "z_W50xjoqsnd",
        "colab": {}
      },
      "source": [
        ""
      ],
      "execution_count": 0,
      "outputs": []
    },
    {
      "cell_type": "code",
      "metadata": {
        "colab_type": "code",
        "id": "qHUyiLZwqslG",
        "colab": {}
      },
      "source": [
        ""
      ],
      "execution_count": 0,
      "outputs": []
    },
    {
      "cell_type": "code",
      "metadata": {
        "colab_type": "code",
        "id": "A7dMwBCkqsin",
        "colab": {}
      },
      "source": [
        ""
      ],
      "execution_count": 0,
      "outputs": []
    },
    {
      "cell_type": "markdown",
      "metadata": {
        "colab_type": "text",
        "id": "4iuPZeiO48OQ"
      },
      "source": [
        "# Still In progress \n",
        "Another approach"
      ]
    },
    {
      "cell_type": "code",
      "metadata": {
        "colab_type": "code",
        "id": "758sEBgeiZiW",
        "colab": {}
      },
      "source": [
        "df = pd.read_csv(r'/content/drive/My Drive/NLP/TR/working_folder/cleanSet.csv')\n",
        "df.dropna(inplace=True)\n",
        "df.sort_values(by='DATE',inplace=True, ascending=True, axis=0)\n"
      ],
      "execution_count": 0,
      "outputs": []
    },
    {
      "cell_type": "code",
      "metadata": {
        "colab_type": "code",
        "id": "y29_YtA_itcD",
        "outputId": "cf9a740e-3f42-45a3-a9e7-f63f00703227",
        "colab": {
          "base_uri": "https://localhost:8080/",
          "height": 35
        }
      },
      "source": [
        "df.shape"
      ],
      "execution_count": 0,
      "outputs": [
        {
          "output_type": "execute_result",
          "data": {
            "text/plain": [
              "(235932, 12)"
            ]
          },
          "metadata": {
            "tags": []
          },
          "execution_count": 9
        }
      ]
    },
    {
      "cell_type": "code",
      "metadata": {
        "colab_type": "code",
        "id": "3OKbKiwMHODJ",
        "colab": {}
      },
      "source": [
        "# df.reset_index(inplace=True)\n",
        "# l = ['DATE','TIME','STORY_DATE_TIME','EVENT_TYPE','HEADLINE_ALERT_TEXT', 'PRODUCTS', 'TOPICS','STORY_TYPE', 'TABULAR_FLAG']\n",
        "df0 = pd.DataFrame(df[:20001], columns=df.columns)\n",
        "df0['Clean_HEADLINE_ALERT_TEXT'] = pd.DataFrame(df0['HEADLINE_ALERT_TEXT'].apply(lambda x: doc_cleaner2(x)))\n",
        "del df"
      ],
      "execution_count": 0,
      "outputs": []
    },
    {
      "cell_type": "code",
      "metadata": {
        "colab_type": "code",
        "id": "z8EvObiEjlJv",
        "outputId": "c2ae7596-1f79-4855-f2cf-95da9ed50570",
        "colab": {
          "base_uri": "https://localhost:8080/",
          "height": 266
        }
      },
      "source": [
        "df0.isnull().sum()\n",
        "# df0.isna() # These two methods are the same for pd dataframes, they look diff cuz they originated from R, but pd built on numpy looks for Nans using eaither of these"
      ],
      "execution_count": 0,
      "outputs": [
        {
          "output_type": "execute_result",
          "data": {
            "text/plain": [
              "DATE                         0\n",
              "TIME                         0\n",
              "UNIQUE_STORY_INDEX           0\n",
              "EVENT_TYPE                   0\n",
              "PNAC                         0\n",
              "STORY_DATE_TIME              0\n",
              "HEADLINE_ALERT_TEXT          0\n",
              "PRODUCTS                     0\n",
              "TOPICS                       0\n",
              "STORY_TYPE                   0\n",
              "TABULAR_FLAG                 0\n",
              "LANGUAGE                     0\n",
              "Clean_HEADLINE_ALERT_TEXT    0\n",
              "dtype: int64"
            ]
          },
          "metadata": {
            "tags": []
          },
          "execution_count": 35
        }
      ]
    },
    {
      "cell_type": "code",
      "metadata": {
        "colab_type": "code",
        "id": "j-MRMdoljn1N",
        "outputId": "002e198a-ed82-4c23-9a18-33931185f885",
        "colab": {
          "base_uri": "https://localhost:8080/",
          "height": 52
        }
      },
      "source": [
        "df0['HEADLINE_ALERT_TEXT'][df0['Clean_HEADLINE_ALERT_TEXT']=='']\n"
      ],
      "execution_count": 0,
      "outputs": [
        {
          "output_type": "execute_result",
          "data": {
            "text/plain": [
              "221582    ���������\n",
              "Name: HEADLINE_ALERT_TEXT, dtype: object"
            ]
          },
          "metadata": {
            "tags": []
          },
          "execution_count": 8
        }
      ]
    },
    {
      "cell_type": "code",
      "metadata": {
        "colab_type": "code",
        "id": "43DDfkiDjpt5",
        "colab": {}
      },
      "source": [
        "df0.drop(df0[df0['Clean_HEADLINE_ALERT_TEXT']==''].index, axis=0, inplace=True)\n",
        "df0.reset_index(inplace=True)"
      ],
      "execution_count": 0,
      "outputs": []
    },
    {
      "cell_type": "code",
      "metadata": {
        "colab_type": "code",
        "id": "kBEiKrfDHOIk",
        "colab": {}
      },
      "source": [
        "df0.head(1)"
      ],
      "execution_count": 0,
      "outputs": []
    },
    {
      "cell_type": "code",
      "metadata": {
        "colab_type": "code",
        "id": "mf592KeeMpos",
        "colab": {}
      },
      "source": [
        "df0.drop(['index'], inplace=True, axis=1) # 'level_0' and possibly other self-generated indexes"
      ],
      "execution_count": 0,
      "outputs": []
    },
    {
      "cell_type": "code",
      "metadata": {
        "colab_type": "code",
        "id": "508BsPOLM5dv",
        "colab": {}
      },
      "source": [
        "df0.head(1)"
      ],
      "execution_count": 0,
      "outputs": []
    },
    {
      "cell_type": "code",
      "metadata": {
        "colab_type": "code",
        "id": "2_oBlJrmHOOL",
        "colab": {}
      },
      "source": [
        "cv = TfidfVectorizer(\n",
        "        min_df=20, max_df=0.30, strip_accents='unicode',\n",
        "        analyzer=\"word\", ngram_range=(1, 2), # token_pattern=r'\\w{2,}',\n",
        "        use_idf=1, smooth_idf=True, sublinear_tf=True ,stop_words='english', lowercase=False, norm='l2') # tf scaling, i.e. replace tf with 1 + log(tf)\n",
        "\n",
        "dtm = cv.fit_transform(df0['Clean_HEADLINE_ALERT_TEXT'])#.todense() I'm not using this here. later I convert my dtm to nd array\n",
        "\n",
        "# min_df=2 requires that an ngram appear in atleast 2 of the docs in order to be considered part of the vocab, or to limit the size of vocab\n",
        "# max_df= 0.90 : exclude ngrams that are too frequent, i.e., we consider them less important\n",
        "# strip_accents='unicode': removes accents and perform other character normalization during the preprocessing step\n",
        "# todense() retunrs a matrix from the spars transformation, toarray() returns an np array\n",
        "# fit_transform: Learn vocabulary and idf, return term-document matrix.\n",
        "# smooth_idf=1: adding 1 makes the tokens/ngrams occuring in all docs will not be entirely ignored\n",
        "# sublinear_tf=True: replace tf with 1 + log(tf)."
      ],
      "execution_count": 0,
      "outputs": []
    },
    {
      "cell_type": "code",
      "metadata": {
        "colab_type": "code",
        "id": "zu0lbdYvNL8k",
        "outputId": "f062992c-7dea-4a97-f578-902aec8bf2f5",
        "colab": {
          "base_uri": "https://localhost:8080/",
          "height": 35
        }
      },
      "source": [
        "vocab= np.array(cv.get_feature_names())\n",
        "len(vocab)"
      ],
      "execution_count": 0,
      "outputs": [
        {
          "output_type": "execute_result",
          "data": {
            "text/plain": [
              "1441"
            ]
          },
          "metadata": {
            "tags": []
          },
          "execution_count": 100
        }
      ]
    },
    {
      "cell_type": "code",
      "metadata": {
        "colab_type": "code",
        "id": "dN9pcoo4LKH_",
        "outputId": "859b9030-b62b-4583-8838-fd0081a2f5ea",
        "colab": {
          "base_uri": "https://localhost:8080/",
          "height": 52
        }
      },
      "source": [
        "print(dtm.shape)\n",
        "print(vocab.shape)"
      ],
      "execution_count": 0,
      "outputs": [
        {
          "output_type": "stream",
          "text": [
            "(20000, 1441)\n",
            "(1441,)\n"
          ],
          "name": "stdout"
        }
      ]
    },
    {
      "cell_type": "code",
      "metadata": {
        "colab_type": "code",
        "id": "9JbjPngjHOcI",
        "colab": {}
      },
      "source": [
        "row_indx = 0\n",
        "# np.squeeze(dtm[row_indx])"
      ],
      "execution_count": 0,
      "outputs": []
    },
    {
      "cell_type": "code",
      "metadata": {
        "colab_type": "code",
        "id": "cT9T-lNuHN_1",
        "colab": {}
      },
      "source": [
        ""
      ],
      "execution_count": 0,
      "outputs": []
    },
    {
      "cell_type": "code",
      "metadata": {
        "colab_type": "code",
        "id": "SyUjDqVspQnt",
        "colab": {}
      },
      "source": [
        "def top_tfidf_ngrams(densdtm, vocab, top_n): # this func will be called later by the return of another func where densdtm is defined and passed to it\n",
        "    ''' Get top n tfidf scores in densdtm and return them with their corresponding ngrams'''\n",
        "    topn_indx = np.argsort(densdtm)[::-1][:top_n] # argsort sorts(whether it actualy does it or not) the vals in ascending order then returns their indices\n",
        "    top_ngrams = [(vocab[i], densdtm[i]) for i in topn_indx] # list of tuples of ngrams and their scores (just the top_n ones)\n",
        "    df = pd.DataFrame(top_ngrams, columns=['ngram', 'tfidf'])\n",
        "    return df"
      ],
      "execution_count": 0,
      "outputs": []
    },
    {
      "cell_type": "code",
      "metadata": {
        "colab_type": "code",
        "id": "335QRehmprlX",
        "colab": {}
      },
      "source": [
        "# def top_ngrams_ina_single_doc(dtm, vocab, row_indx=0, top_n=8):\n",
        "#     ''' Top tfidf ngrams in  doc '''\n",
        "#     densdtm = np.squeeze(dtm[row_indx].toarray())\n",
        "#     # densdtm = dtm[row_indx].toarray()\n",
        "#     return top_tfidf_ngrams(densdtm, vocab, top_n)"
      ],
      "execution_count": 0,
      "outputs": []
    },
    {
      "cell_type": "code",
      "metadata": {
        "colab_type": "code",
        "id": "oodNuw9-20uJ",
        "outputId": "5e1dd78a-82f4-440c-f7f9-cb8162daec42",
        "colab": {
          "base_uri": "https://localhost:8080/",
          "height": 35
        }
      },
      "source": [
        "# d = top_ngrams_ina_single_doc(dtm, vocab, row_indx=0, top_n=8)\n",
        "# d.shape"
      ],
      "execution_count": 0,
      "outputs": [
        {
          "output_type": "execute_result",
          "data": {
            "text/plain": [
              "(8, 2)"
            ]
          },
          "metadata": {
            "tags": []
          },
          "execution_count": 26
        }
      ]
    },
    {
      "cell_type": "code",
      "metadata": {
        "colab_type": "code",
        "id": "8KA9WICnHnEA",
        "colab": {}
      },
      "source": [
        "D = dtm.toarray()\n",
        "tfidf_threshold=0.02\n",
        "D[D < tfidf_threshold] = 0  # filter out ngrams with scores lower than threshold tfidf_threshold\n",
        "tfidf_means = np.mean(D, axis=0) "
      ],
      "execution_count": 0,
      "outputs": []
    },
    {
      "cell_type": "code",
      "metadata": {
        "colab_type": "code",
        "id": "2mqc7FyTHuxT",
        "outputId": "c226a196-a7b1-49e0-dcb3-cc0fd579b6eb",
        "colab": {
          "base_uri": "https://localhost:8080/",
          "height": 35
        }
      },
      "source": [
        "tfidf_means.shape"
      ],
      "execution_count": 0,
      "outputs": [
        {
          "output_type": "execute_result",
          "data": {
            "text/plain": [
              "(31311,)"
            ]
          },
          "metadata": {
            "tags": []
          },
          "execution_count": 64
        }
      ]
    },
    {
      "cell_type": "code",
      "metadata": {
        "colab_type": "code",
        "id": "gEXGsIc8Hxau",
        "outputId": "d263b77c-6b94-4996-83c6-662e016acc7d",
        "colab": {
          "base_uri": "https://localhost:8080/",
          "height": 35
        }
      },
      "source": [
        "tfidf_means.max()"
      ],
      "execution_count": 0,
      "outputs": [
        {
          "output_type": "execute_result",
          "data": {
            "text/plain": [
              "0.02607074639070489"
            ]
          },
          "metadata": {
            "tags": []
          },
          "execution_count": 84
        }
      ]
    },
    {
      "cell_type": "code",
      "metadata": {
        "colab_type": "code",
        "id": "JJok9Hp5H3tA",
        "colab": {}
      },
      "source": [
        ""
      ],
      "execution_count": 0,
      "outputs": []
    },
    {
      "cell_type": "code",
      "metadata": {
        "colab_type": "code",
        "id": "HqkiRzEf6c9Q",
        "colab": {}
      },
      "source": [
        "def top_mean_ngrams(dtm, vocab, ids=None, tfidf_threshold=0.02, top_n=4):\n",
        "    ''' dtm is converted to nd array, tfidf mean of ngrams across all docs computed, passed to another func to get \n",
        "    the argsort index of top_n ngrams and their scores, a list of tuple of ngrams and their scores created, a df created of it, and done ''' \n",
        "    if ids:\n",
        "        D = dtm[ids].toarray()\n",
        "    else:               # if ids=None, means all docs (rows) will be considered\n",
        "        D = dtm.toarray()\n",
        "\n",
        "    D[D < tfidf_threshold] = 0  # filter out ngrams with scores lower than threshold tfidf_threshold\n",
        "    tfidf_means = np.mean(D, axis=0)  # this mean is not dominated by high freq low importance(tfidf) words like \"a\", \"the\"\n",
        "                                      # axis 0 for a 2d array is vertically down, i.e., along columns\n",
        "    return top_tfidf_ngrams(tfidf_means, vocab, top_n)"
      ],
      "execution_count": 0,
      "outputs": []
    },
    {
      "cell_type": "code",
      "metadata": {
        "colab_type": "code",
        "id": "0u7Ic2e2655n",
        "outputId": "cda51134-ac6b-472b-a8d4-ae26ba32f6ce",
        "colab": {
          "base_uri": "https://localhost:8080/",
          "height": 164
        }
      },
      "source": [
        "top_mean_ngrams(dtm=dtm, vocab=vocab, ids=None, tfidf_threshold=0.025, top_n=4)\n"
      ],
      "execution_count": 0,
      "outputs": [
        {
          "output_type": "execute_result",
          "data": {
            "text/html": [
              "<div>\n",
              "<style scoped>\n",
              "    .dataframe tbody tr th:only-of-type {\n",
              "        vertical-align: middle;\n",
              "    }\n",
              "\n",
              "    .dataframe tbody tr th {\n",
              "        vertical-align: top;\n",
              "    }\n",
              "\n",
              "    .dataframe thead th {\n",
              "        text-align: right;\n",
              "    }\n",
              "</style>\n",
              "<table border=\"1\" class=\"dataframe\">\n",
              "  <thead>\n",
              "    <tr style=\"text-align: right;\">\n",
              "      <th></th>\n",
              "      <th>ngram</th>\n",
              "      <th>tfidf</th>\n",
              "    </tr>\n",
              "  </thead>\n",
              "  <tbody>\n",
              "    <tr>\n",
              "      <th>0</th>\n",
              "      <td>NEWS</td>\n",
              "      <td>0.027341</td>\n",
              "    </tr>\n",
              "    <tr>\n",
              "      <th>1</th>\n",
              "      <td>test</td>\n",
              "      <td>0.024876</td>\n",
              "    </tr>\n",
              "    <tr>\n",
              "      <th>2</th>\n",
              "      <td>ignore</td>\n",
              "      <td>0.023807</td>\n",
              "    </tr>\n",
              "    <tr>\n",
              "      <th>3</th>\n",
              "      <td>test ignore</td>\n",
              "      <td>0.021553</td>\n",
              "    </tr>\n",
              "  </tbody>\n",
              "</table>\n",
              "</div>"
            ],
            "text/plain": [
              "         ngram     tfidf\n",
              "0         NEWS  0.027341\n",
              "1         test  0.024876\n",
              "2       ignore  0.023807\n",
              "3  test ignore  0.021553"
            ]
          },
          "metadata": {
            "tags": []
          },
          "execution_count": 105
        }
      ]
    },
    {
      "cell_type": "code",
      "metadata": {
        "colab_type": "code",
        "id": "tXa-aTf29Lqw",
        "outputId": "f93cad25-af66-405d-eee5-ee0a48da2e25",
        "colab": {
          "base_uri": "https://localhost:8080/",
          "height": 106
        }
      },
      "source": [
        "ytr = np.unique(df0['EVENT_TYPE'])\n",
        "df0['EVENT_TYPE'].value_counts()"
      ],
      "execution_count": 0,
      "outputs": [
        {
          "output_type": "execute_result",
          "data": {
            "text/plain": [
              "STORY_TAKE_OVERWRITE    8296\n",
              "HEADLINE                8209\n",
              "ALERT                   2726\n",
              "STORY_TAKE_APPEND        769\n",
              "Name: EVENT_TYPE, dtype: int64"
            ]
          },
          "metadata": {
            "tags": []
          },
          "execution_count": 106
        }
      ]
    },
    {
      "cell_type": "code",
      "metadata": {
        "colab_type": "code",
        "id": "wC8TejHZ93BP",
        "outputId": "881f8c68-a555-40d1-983d-8d4ac856c6bb",
        "colab": {
          "base_uri": "https://localhost:8080/",
          "height": 52
        }
      },
      "source": [
        "ytr"
      ],
      "execution_count": 0,
      "outputs": [
        {
          "output_type": "execute_result",
          "data": {
            "text/plain": [
              "array(['ALERT', 'HEADLINE', 'STORY_TAKE_APPEND', 'STORY_TAKE_OVERWRITE'],\n",
              "      dtype=object)"
            ]
          },
          "metadata": {
            "tags": []
          },
          "execution_count": 107
        }
      ]
    },
    {
      "cell_type": "code",
      "metadata": {
        "colab_type": "code",
        "id": "MdndPlrH8pfm",
        "colab": {}
      },
      "source": [
        "def top_ngrams_by_class(dtm, ytr, vocab, tfidf_threshold=0.1, top_n=8):\n",
        "    ''' Return a list of dataframes, where each df holds top_n ngrams and their mean tfidf score computed for all docs with the same class label. '''\n",
        "    class_ngram_dfs = []\n",
        "    labels = np.unique(ytr)\n",
        "    for label in labels:\n",
        "        ids = np.where(ytr==label)\n",
        "        feats_df = top_mean_ngrams(dtm, vocab, ids, tfidf_threshold= tfidf_threshold, top_n= top_n)\n",
        "        feats_df.label = label\n",
        "        class_ngram_dfs.append(feats_df)\n",
        "    return class_ngram_dfs\n"
      ],
      "execution_count": 0,
      "outputs": []
    },
    {
      "cell_type": "code",
      "metadata": {
        "colab_type": "code",
        "id": "VTNCZ9on9bN9",
        "colab": {}
      },
      "source": [
        "class_ngram_dfs= top_ngrams_by_class(dtm=dtm, ytr=ytr, vocab=vocab, tfidf_threshold=0.2, top_n=4)\n"
      ],
      "execution_count": 0,
      "outputs": []
    },
    {
      "cell_type": "code",
      "metadata": {
        "colab_type": "code",
        "id": "PtcyCWOi9qJl",
        "outputId": "46521051-abd4-4875-fe43-e84670fd38fd",
        "colab": {
          "base_uri": "https://localhost:8080/",
          "height": 35
        }
      },
      "source": [
        "len(class_ngram_dfs)"
      ],
      "execution_count": 0,
      "outputs": [
        {
          "output_type": "execute_result",
          "data": {
            "text/plain": [
              "4"
            ]
          },
          "metadata": {
            "tags": []
          },
          "execution_count": 110
        }
      ]
    },
    {
      "cell_type": "code",
      "metadata": {
        "colab_type": "code",
        "id": "JEzL87a_9sEX",
        "colab": {}
      },
      "source": [
        "def plot_tfidf_classngram_barChart(class_ngram_dfs):\n",
        "    ''' Plot the data frames returned by the function top_ngrams_by_class(). '''\n",
        "    fig = plt.figure(figsize=(18, 6), facecolor=\"w\")\n",
        "    x = np.arange(len(class_ngram_dfs[0]))\n",
        "    for i, df in enumerate(class_ngram_dfs):\n",
        "        ax = fig.add_subplot(1, len(class_ngram_dfs), i+1)\n",
        "        ax.spines[\"top\"].set_visible(False)\n",
        "        ax.spines[\"right\"].set_visible(False)\n",
        "        ax.set_frame_on(False)\n",
        "        ax.get_xaxis().tick_bottom()\n",
        "        ax.get_yaxis().tick_left()\n",
        "        ax.set_xlabel(\"Ave Tf-Idf Score\", labelpad=16, fontsize=14)\n",
        "        ax.set_title(\"Ylabel = \" + str(df.label), fontsize=16)\n",
        "        ax.ticklabel_format(axis='x', style='sci', scilimits=(-2,2))\n",
        "        ax.barh(x, df['tfidf'], align='center', color='#3F5D7D')\n",
        "        ax.set_yticks(x)\n",
        "        ax.set_ylim([-1, x[-1]+1])\n",
        "        yticks = ax.set_yticklabels(df['ngram'])\n",
        "        plt.subplots_adjust(bottom=0.09, right=0.97, left=0.15, top=0.95, wspace=0.52)\n",
        "    plt.show()\n"
      ],
      "execution_count": 0,
      "outputs": []
    },
    {
      "cell_type": "code",
      "metadata": {
        "colab_type": "code",
        "id": "C-zJNQxS991M",
        "outputId": "ebd4e232-658a-48dc-d0e5-11ba9a3d6a6d",
        "colab": {
          "base_uri": "https://localhost:8080/",
          "height": 467
        }
      },
      "source": [
        "plot_tfidf_classngram_barChart(class_ngram_dfs[0:4])\n"
      ],
      "execution_count": 0,
      "outputs": [
        {
          "output_type": "display_data",
          "data": {
            "image/png": "[encoded data removed]",
            "text/plain": [
              "<Figure size 1296x432 with 4 Axes>"
            ]
          },
          "metadata": {
            "tags": []
          }
        }
      ]
    },
    {
      "cell_type": "code",
      "metadata": {
        "colab_type": "code",
        "id": "b0Il8oMz-2C6",
        "colab": {}
      },
      "source": [
        ""
      ],
      "execution_count": 0,
      "outputs": []
    }
  ]
}